{
  "nbformat": 4,
  "nbformat_minor": 0,
  "metadata": {
    "colab": {
      "provenance": [],
      "authorship_tag": "ABX9TyNupmsKVVdFkR7wJXE8WDbz",
      "include_colab_link": true
    },
    "kernelspec": {
      "name": "python3",
      "display_name": "Python 3"
    },
    "language_info": {
      "name": "python"
    }
  },
  "cells": [
    {
      "cell_type": "markdown",
      "metadata": {
        "id": "view-in-github",
        "colab_type": "text"
      },
      "source": [
        "<a href=\"https://colab.research.google.com/github/humbertozanetti/cursodepython/blob/main/Notebooks/Curso_Python_Aula03.ipynb\" target=\"_parent\"><img src=\"https://colab.research.google.com/assets/colab-badge.svg\" alt=\"Open In Colab\"/></a>"
      ]
    },
    {
      "cell_type": "markdown",
      "source": [
        "# **CURSO DE PYTHON - Aula 03**\n",
        "**ESTRUTURAS DE REPETIÇÃO**\n",
        "\n",
        "Prof. Dr. Humberto A. P. Zanetti\n",
        "\n",
        "---"
      ],
      "metadata": {
        "id": "MJ1_8MhTnwed"
      }
    },
    {
      "cell_type": "markdown",
      "source": [
        "Estruturas de repetição são utilizados para que dentro fluxo do nosso programa tenha **ciclos de repetição** com um **conjunto específico de comandos**.Ciclos ou **laços** de repetição, também conhecidos como ***loops***, são estruturas de controle que permitem repetir um bloco de código várias vezes. São uma ferramenta fundamental na programação e podem ser usados para automatizar tarefas.\n",
        "\n",
        "Esss laços de repetição funcionam de acordo com uma **condição**, que determina quando o laço começa ou termina.\n",
        "\n",
        "<img src=\"https://github.com/humbertozanetti/cursodepython/blob/main/Notebooks/imagens/estrutura_while.png?raw=1\" width=\"300\">\n",
        "\n",
        "Em Python temos um laço de repetição padrão, que seria a estrutura `while`. Com essa estrutura podendo fazer qualquer tipo de laço de reptição, mas além dela veremos também um aplicação  da estrutura `for`, que pode ser utilizado para\n"
      ],
      "metadata": {
        "id": "qG73MNHsn__3"
      }
    },
    {
      "cell_type": "markdown",
      "source": [
        "## 1. Estrutura `while`\n",
        "\n",
        "A estrutura `while`necessita apenas de uma condição dentro do seu escopo, é **enquanto** a condição for **verdadeira** o ciclo de repetição conitnua. Caso a condição seja **falsa**, a repetição para.\n",
        "\n",
        "```python\n",
        "while <condição> :\n",
        "  <comandos>\n",
        "```"
      ],
      "metadata": {
        "id": "kaqpOgVtodBT"
      }
    },
    {
      "cell_type": "markdown",
      "source": [
        "**Exemplos:**"
      ],
      "metadata": {
        "id": "uVnIuVvDZA9a"
      }
    },
    {
      "cell_type": "code",
      "execution_count": 4,
      "metadata": {
        "id": "tv0dQGwLnrx7",
        "colab": {
          "base_uri": "https://localhost:8080/"
        },
        "outputId": "f29218e1-d4df-4271-fdee-182dc51e4802"
      },
      "outputs": [
        {
          "output_type": "stream",
          "name": "stdout",
          "text": [
            "Fim do programa\n"
          ]
        }
      ],
      "source": [
        "x = 10\n",
        "while x < 10:\n",
        "  x = int(input('Digite um n.o inteiro: '))\n",
        "  print(x)\n",
        "\n",
        "print('Fim do programa')\n"
      ]
    },
    {
      "cell_type": "markdown",
      "source": [
        "## 2. Contadores e acumuladores"
      ],
      "metadata": {
        "id": "r49DgJoXqhIs"
      }
    },
    {
      "cell_type": "markdown",
      "source": [
        "Variáveis *contadoras* e *acumuladoras* seguem o mesmo princípio: são variáveis que adicionam ou reduzem o valor dela mesma. A diferença que *contadoras* trabalham com um valor **constante**, já acumuladoras trabalham com um que pode **variar**."
      ],
      "metadata": {
        "id": "D2jHyOJ0qmhx"
      }
    },
    {
      "cell_type": "markdown",
      "source": [
        "### 2.1. Exemplos de uso de contadores"
      ],
      "metadata": {
        "id": "PHRV8WQhq4UQ"
      }
    },
    {
      "cell_type": "markdown",
      "source": [
        " Em Python, temos **operadores de atribuições especiais**, que são usados exatamente para essas ações de agregação de vamos.  \n",
        "\n",
        "| Operador | Exemplo | Equivalência |\n",
        "| :------: | :-----: | :----------: |\n",
        "| **+=**   | x += 1  | x = x +  1 |\n",
        "| **-=**   | x -= 1  | x = x -  1 |\n",
        "| ***=**   | x *= 1  | x = x *  1 |\n",
        "| **/=**   | x /= 1  | x = x /  1 |\n",
        "| **//=**  | x //= 1 | x = x //  1 |\n",
        "|**\\*\\*=** | x \\*\\*= 1 | x = x \\*\\*  1 |"
      ],
      "metadata": {
        "id": "WGSpcvfRrW7i"
      }
    },
    {
      "cell_type": "markdown",
      "source": [
        "**NOTA IMPORTANTE:** Em Python não existe operador de incremente de +1 (**++**) ou de decremento de -1 (**--**).\n",
        "\n",
        "Vamos fazer o \"famoso\" exemplo da tabuada. Nesse exemplo, nosso contador irá incrementar sempre mais +1 no valor da própria variável."
      ],
      "metadata": {
        "id": "iAyK0tuJct1C"
      }
    },
    {
      "cell_type": "code",
      "source": [
        "num = int(input('Digite um número inteiro: '))\n",
        "\n",
        "i = 1\n",
        "while i <= 10:\n",
        "  res = num * i\n",
        "  print(f'{num} X {i} = {res}')\n",
        "  i += 1 #i++"
      ],
      "metadata": {
        "id": "zWgJ-zbhacDL",
        "colab": {
          "base_uri": "https://localhost:8080/"
        },
        "outputId": "2b2f1ac6-6bd4-420e-b78a-e7e711b836a7"
      },
      "execution_count": 5,
      "outputs": [
        {
          "output_type": "stream",
          "name": "stdout",
          "text": [
            "Digite um número inteiro: 2\n",
            "2 X 1 = 2\n",
            "2 X 2 = 4\n",
            "2 X 3 = 6\n",
            "2 X 4 = 8\n",
            "2 X 5 = 10\n",
            "2 X 6 = 12\n",
            "2 X 7 = 14\n",
            "2 X 8 = 16\n",
            "2 X 9 = 18\n",
            "2 X 10 = 20\n"
          ]
        }
      ]
    },
    {
      "cell_type": "markdown",
      "source": [
        "Vamos agora fazer um exemplo que conta quantos valores pares (total de 10 valores) foram digitados pelo usuário"
      ],
      "metadata": {
        "id": "rVxNiEoksZjq"
      }
    },
    {
      "cell_type": "code",
      "source": [
        "i = 1\n",
        "contpar = 0\n",
        "while i <= 10:\n",
        "  num = int(input('Digite um número inteiro: '))\n",
        "  if num % 2 == 0:\n",
        "    print(f'O número {num} é par')\n",
        "    contpar += 1\n",
        "  i += 1\n",
        "print(f'Quantidade de pares: {contpar}')"
      ],
      "metadata": {
        "id": "SzN_7CUAxtuG"
      },
      "execution_count": null,
      "outputs": []
    },
    {
      "cell_type": "markdown",
      "source": [
        "\n",
        "### 2.2. Exemplo de uso de acumuladores\n",
        "\n",
        "\n",
        "\n"
      ],
      "metadata": {
        "id": "aoKeG7viyaxI"
      }
    },
    {
      "cell_type": "markdown",
      "source": [
        "Vamos fazer um exemplo de código que 3 valores inseridos pelo usuário e apresenta a soma ao final."
      ],
      "metadata": {
        "id": "jb7hbuUNeIoj"
      }
    },
    {
      "cell_type": "code",
      "source": [
        "soma = 0.0\n",
        "i = 1\n",
        "while i <= 3:\n",
        "  valor = float(input('Digite um valor: '))\n",
        "  soma += valor # soma = soma + valor\n",
        "  i += 1\n",
        "\n",
        "print(f'Soma total foi {soma}')"
      ],
      "metadata": {
        "id": "YUqHcCygho1e",
        "colab": {
          "base_uri": "https://localhost:8080/"
        },
        "outputId": "5e3829bb-4a94-4e10-e10c-2398a908a0ac"
      },
      "execution_count": 7,
      "outputs": [
        {
          "output_type": "stream",
          "name": "stdout",
          "text": [
            "Digite um valor: 10.0\n",
            "Digite um valor: 20.0\n",
            "Digite um valor: 30.0\n",
            "Soma total foi 60.0\n"
          ]
        }
      ]
    },
    {
      "cell_type": "markdown",
      "source": [
        "### 2.3. Laços com interrupção\n"
      ],
      "metadata": {
        "id": "cheHIF1AhRH_"
      }
    },
    {
      "cell_type": "markdown",
      "source": [
        "Muitas vezes necessitamos criar laços de repetição que não tenham uma condição de parada em sua definição, mas como não ter um laço de repetição **sem a possibilidade de interrupção** usamos uma instrução chamada `break`. Essa instrução, quando executa, interrompe a execução do laço. E colocamos essa instrução aninhada em um `if`, para ser executa no cumprimento de uma condição para parar a execução do laço.  \n",
        "Em uma comparação rasteira, seria como a aplicação de um `do-while` existente em outras linguagens.\n",
        "\n",
        "Vamos alterar o exemplo anterior, agora para uma quantidade indefinida de números."
      ],
      "metadata": {
        "id": "-K3z9_BIhc-i"
      }
    },
    {
      "cell_type": "code",
      "source": [
        "soma = 0.0\n",
        "while True:\n",
        "  valor = float(input('Digite um valor ou 0 p/ sair:'))\n",
        "  if valor == 0.0:\n",
        "    break\n",
        "  soma += valor\n",
        "\n",
        "print(f'Soma total foi {soma}')\n"
      ],
      "metadata": {
        "id": "nqWKJ2_-zchx",
        "colab": {
          "base_uri": "https://localhost:8080/"
        },
        "outputId": "ed50eb53-c29c-423b-a6a2-7749417e4e07"
      },
      "execution_count": 9,
      "outputs": [
        {
          "output_type": "stream",
          "name": "stdout",
          "text": [
            "Digite um valor ou 0 p/ sair:2\n",
            "Digite um valor ou 0 p/ sair:0\n",
            "Soma total foi 2.0\n"
          ]
        }
      ]
    },
    {
      "cell_type": "markdown",
      "source": [
        "## **Exercício**\n",
        "\n",
        "Faça um programa que receba uma quantidade indeterminada de valores, e mostre:\n",
        "+ a soma total\n",
        "+ a média\n",
        "+ quantos valores foram inseridos\n",
        "+ qual foi o maior valor inserido"
      ],
      "metadata": {
        "id": "xpRDoYtZRwLE"
      }
    },
    {
      "cell_type": "code",
      "source": [
        "soma = 0.0\n",
        "quantidade = 0\n",
        "maior_valor = float('-inf') #maior_valor = 0.0\n",
        "while True:\n",
        "    valor = float(input(\"Digite um valor (ou 0 p/ sair): \"))\n",
        "    soma += valor\n",
        "    if valor > 0:\n",
        "      quantidade += 1\n",
        "    if valor > maior_valor:\n",
        "        maior_valor = valor\n",
        "    if valor == 0:\n",
        "        break\n",
        "media = soma / quantidade\n",
        "print(f\"Soma total: {soma}\")\n",
        "print(f\"Média: {media}\")\n",
        "print(f\"Quantidade de valores inseridos: {quantidade}\")\n",
        "print(f\"Maior valor inserido: {maior_valor}\")\n"
      ],
      "metadata": {
        "id": "Ebbx69r3Xe-w"
      },
      "execution_count": null,
      "outputs": []
    },
    {
      "cell_type": "markdown",
      "source": [
        "## 3. Estrutura `for`"
      ],
      "metadata": {
        "id": "4u0UKoStgFpy"
      }
    },
    {
      "cell_type": "markdown",
      "source": [
        "A estrutura `for` em Python é destinada, por padrão, para percorrer conjuntos de valores ou objetos (chamados de \"iteráveis\"). Mas podemos fazer o uso dessa estrutura como nas demais linguagens de programação, que possui a função essencial laço de repetições finitas e contadas.  \n",
        "Mas podemos \"adaptar\" uma maneira de utilizar a estrutura `for`para um laço de reptição convencional. Como a estrutura precisa percorrer um conjunto de valores para funcionar, vamos utilizar uma função que gere um conjunto similar a uma contagem. Para isso vamos utilizar a função `range()`.  \n",
        "A função `range()`cira uma intervalo de valores inteiros sequenciais. Essa função tem 3 maneiras de utilização:\n",
        "+ `range(fim_intervalo)`: colocando apenas um parâmetro, ele será compreendido como o final do intervalo, levando em conta que o intervalo, por padrão, irá iniciar em **zero (0)** e incrementar de 1 em 1. E o fim do intervalo é dado com um limite **aberto, ou seja, não inclui o número final (`< fim_intervalo`). Ex.: `range(10)` -> 0, 1, 2, 3, 4, 5, 6, 7, 8, 9;\n",
        "+ `range(início_intervalo, fim_intervalo)`: com dois parâmetro, o primeiro é o início do intervalo (inclui-se o valor) e o segundo parâmetro é o fim do intervalo (não se inclui o valor). Ex.: `range(5,10)`-> 5, 6, 7, 8, 9;\n",
        "+ `range(início_intervalo, fim_intervalo, passo)`: o terceiro termo a ser inserido, será o \"passo\" do incremento, ou seja, de quanto em quanto o intervalo irá incrementar. Ex.: `range(3,10,2)` -> 3, 5, 7, 9.\n",
        "\n",
        "\n",
        "Vamos fazer o exemplo da tabuado, agora com `for`."
      ],
      "metadata": {
        "id": "LAxR8EW5gJl-"
      }
    },
    {
      "cell_type": "code",
      "source": [],
      "metadata": {
        "id": "8GWjFouaMwV6"
      },
      "execution_count": null,
      "outputs": []
    },
    {
      "cell_type": "markdown",
      "source": [
        "**Referências**\n",
        "\n",
        "- Documentação oficial do [Python](https://docs.python.org/pt-br/3.13/)\n",
        "- MENEZES, Nilo Ney Coutinho. Introdução à programação com Python. 3ª ed. São Paulo: Novatec, 2020.\n",
        "- Material do prof. [Peter Jandl Jr](https://github.com/pjandl).\n",
        "- Material do prof. [Pedro Correia de Siracusa](https://pedrosiracusa.github.io/)\n"
      ],
      "metadata": {
        "id": "txJBbn-Tgcdu"
      }
    }
  ]
}