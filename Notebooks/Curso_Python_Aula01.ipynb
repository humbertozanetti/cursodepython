{
  "nbformat": 4,
  "nbformat_minor": 0,
  "metadata": {
    "colab": {
      "provenance": [],
      "authorship_tag": "ABX9TyPLy8phSwNsAdytK8zRIzyA",
      "include_colab_link": true
    },
    "kernelspec": {
      "name": "python3",
      "display_name": "Python 3"
    },
    "language_info": {
      "name": "python"
    }
  },
  "cells": [
    {
      "cell_type": "markdown",
      "metadata": {
        "id": "view-in-github",
        "colab_type": "text"
      },
      "source": [
        "<a href=\"https://colab.research.google.com/github/humbertozanetti/cursodepython/blob/main/Notebooks/Curso_Python_Aula01.ipynb\" target=\"_parent\"><img src=\"https://colab.research.google.com/assets/colab-badge.svg\" alt=\"Open In Colab\"/></a>"
      ]
    },
    {
      "cell_type": "markdown",
      "source": [
        "# **CURSO DE PYTHON - Aula 01**\n",
        "\n",
        "Prof. Dr. Humberto A. P. Zanetti\n",
        "\n",
        "---\n"
      ],
      "metadata": {
        "id": "sgh7Tr_zKpLZ"
      }
    },
    {
      "cell_type": "markdown",
      "source": [
        " A linguagem [*Python*](https://www.python.org/), uma linguagem de **propósito geral** que oferece **alto nível** de abstração. Isso faz de *Python* uma excelente primeira linguagem a ser aprendida, pois *(i)* você poderá aplicar seus novos conhecimentos em programação a vários projetos e contextos diferentes; e *(ii)* você trabalhará projetando suas ideias, sem ter que se preocupar com os mínimos detalhes sobre como seu código funciona.\n",
        "\n",
        "Um componente fundamental da linguagem *Python* que nos permite **executar** o código que escrevemos é o **interpretador**.\n",
        "No fundo, o interpretador é um programa que executa programas! Ele lê as instruções que escrevemos na forma de código e as executa logo em seguida, sem antes precisar traduzi-lo para código de máquina.\n",
        "\n",
        "Vamos começar construindo o programa \"Hello World\" ou \"Olá Mundo\", uma tradição bem conhecida entre os programadores quando estão aprendendo uma linguagem nova.\n",
        "\n",
        "Este pequeno programa é encarado como um primeiro teste, e simplesmente imprime uma mensagem com o texto *\"Olá Mundo\"* no console.\n",
        "\n"
      ],
      "metadata": {
        "id": "vRDtTLB5Lmu4"
      }
    },
    {
      "cell_type": "code",
      "execution_count": null,
      "metadata": {
        "id": "9mTMLp8JKoZU",
        "outputId": "413cace7-d839-418c-98f4-57be6fb50b2c",
        "colab": {
          "base_uri": "https://localhost:8080/"
        }
      },
      "outputs": [
        {
          "output_type": "stream",
          "name": "stdout",
          "text": [
            "Olá Mundo\n",
            "Oi\n",
            "Olá Humberto\n"
          ]
        }
      ],
      "source": [
        "print('Olá Mundo')\n",
        "print(\"Oi\")\n",
        "nome = 'Humberto'\n",
        "print('Olá ' + nome)"
      ]
    },
    {
      "cell_type": "markdown",
      "source": [
        "A função **print** é uma função, que utilizamos para expôr mensagens e valores para asaída padrão. Esta função recebe um texto como argumento, entre parênteses, e o imprime no console. No caso, o texto que passamos é 'Olá Mundo'. As **aspas simples** envolvendo o texto servem para dizer ao interpretador que estamos construindo uma string (o tipo de dado que usamos para representar texto). O uso de aspas simples é a maneira mais **pythonica** de usar strings.\n",
        "\n",
        "Mais a frente veremos mais sobre **print** e saída formatadas."
      ],
      "metadata": {
        "id": "YGS3KnemL-ks"
      }
    },
    {
      "cell_type": "markdown",
      "source": [
        "## **1. Tipos de dados**\n",
        "\n",
        "\n"
      ],
      "metadata": {
        "id": "vPyai3ORM5Ot"
      }
    },
    {
      "cell_type": "markdown",
      "source": [
        "**Tipos** são abstrações fundamentais nas linguagens de programação que nos permitem representar elementos de informação. Cada linguagem possui um conjunto de *tipos primitivos* (ou fundamentais), a partir dos quais o programador pode construir *tipos compostos*.\n",
        "Por enquanto vamos conhecer alguns dos tipos primitivos, que já vêm definidos na linguagem *Python*:\n",
        "\n",
        "* Tipos **numéricos**:\n",
        " * **Integer** (inteiros): Permite representar números inteiros, por exemplo `4`.\n",
        " * **Float** (ponto flutuante): Permite representar números com parte fracionária, por exemplo `42.5`.\n",
        "\n",
        "* **String**: Permite representar informação na forma de texto, por exemplo `\"Palavra\"` ou `\"C\"`. Usamos aspas (duplas ou simples) para representar informação textual. Em muitas outras linguagens de programação existe também o tipo caractere (ou char). Porém, em *Python* um caractere é uma string de comprimento 1.\n",
        "\n",
        "* **Boolean**: Representa informação em lógica binária, `True` ou `False`."
      ],
      "metadata": {
        "id": "fzIMXYsINhw4"
      }
    },
    {
      "cell_type": "code",
      "source": [],
      "metadata": {
        "id": "I4wRg9vOOTbF"
      },
      "execution_count": null,
      "outputs": []
    },
    {
      "cell_type": "markdown",
      "source": [
        "Veja mais sobre [tipos nativos](https://docs.python.org/3/library/stdtypes.html#built-in-types) da linguagem *Python* em sua documentação."
      ],
      "metadata": {
        "id": "igyqgVjUOT7x"
      }
    },
    {
      "cell_type": "markdown",
      "source": [
        "## **2. Operadores e expressões**"
      ],
      "metadata": {
        "id": "Hntg7rePOdfl"
      }
    },
    {
      "cell_type": "markdown",
      "source": [
        "**Operadores** são os símbolos que especificam as computações mais fundamentais, como por exemplo soma, subtração, multiplicação e divisão. Sempre que aplicamos um operador sobre dois operandos, esperamos obter algum resultado imediatamente. Podemos combinar vários operadores e operandos, construindo assim **expressões**. Veja na tabela abaixo os principais operadores numéricos da linguagem *Python*.\n",
        "\n",
        "| Operação| Operador| Exemplo | Resultado|\n",
        "|:-|---|-:|--|\n",
        "| Soma      | `+` | `9 + 7` | `16` |\n",
        "| Subtração | `-` | `9 - 7` | `2` |\n",
        "| Multiplicação | `*` | `9 * 7` | `63` |\n",
        "| Divisão | `/` | `5 / 2`| `2.5` |\n",
        "| Exponenciação | `**` | `9**2` | `81` |\n",
        "| Módulo | `%` | `9 % 2` | `1` |"
      ],
      "metadata": {
        "id": "enaU84AbOl8F"
      }
    },
    {
      "cell_type": "markdown",
      "source": [
        ">**NOTA:** a ordem dos operadores em uam expressão segue a mesma convenção de precedência utilizada na matemática convencional. Utilizamos parênteses para dar prioridades nas expresões.\n",
        "Na célula abaixo, represente a seguinte expressão em código e obtenha seu resultado:\n",
        "$$ \\frac{3+(3\\times5)}{2\\times(2+3)} $$"
      ],
      "metadata": {
        "id": "R0Oti-Z1O2tl"
      }
    },
    {
      "cell_type": "code",
      "source": [
        "x = 5 // 2\n",
        "print(x)"
      ],
      "metadata": {
        "id": "xjBNT1lyP9e9",
        "outputId": "1bb8c6a9-6bc2-4485-d045-04f7d7a6b243",
        "colab": {
          "base_uri": "https://localhost:8080/"
        }
      },
      "execution_count": null,
      "outputs": [
        {
          "output_type": "stream",
          "name": "stdout",
          "text": [
            "2\n"
          ]
        }
      ]
    },
    {
      "cell_type": "markdown",
      "source": [
        "> **Nota**: Utilizamos o *sharp* `#` na primeira linha da célula acima? Linhas de código precedidas por este símbolo são comentários, que funcionam como mensagens a quem está lendo seu código, normalmente outros programadores.\n",
        "Qualquer coisa escrita na mesma linha **à direita** do símbolo é simplesmente ignorada pelo interpretador, ou seja, **não é executada**.\n",
        "É comum utilizar comentários para documentar partes de um código, ou marcar regiões que devem ser trabalhadas futuramente."
      ],
      "metadata": {
        "id": "RplfiJCgQEBV"
      }
    },
    {
      "cell_type": "markdown",
      "source": [
        "## **3. Variáveis**"
      ],
      "metadata": {
        "id": "yQ0EToc-RwnR"
      }
    },
    {
      "cell_type": "markdown",
      "source": [
        "Quando estamos programando, frequentemente precisamos armazenar valores obtidos em etapas anteriores em memória.\n",
        "Assim, podemos re-utilizar estes valores sem precisar repetir todo o código.\n",
        "Linguagens de programação oferecem uma maneira bastante intuitiva para isso, por meio de **variáveis**.\n",
        "O símbolo que usamos para **atribuir** valores a variáveis é o sinal de igual (`=`). Na linguagem *Python*, uma variável é criada assim que atribuimos algum valor a ela.\n",
        "\n",
        "**obs:** O nome da variável sempre deve ser escrito à esquerda do símbolo `=`, e o valor a ser atribuído à variável, à direita."
      ],
      "metadata": {
        "id": "i4uSjnkBRz5d"
      }
    },
    {
      "cell_type": "code",
      "source": [
        "x = 10\n",
        "print(x)\n",
        "print(type(x))\n",
        "x = 11.5\n",
        "print(x)\n",
        "print(type(x))"
      ],
      "metadata": {
        "id": "8Ggwez4cR7ou",
        "outputId": "a1346c0d-78df-454e-cf15-46da78246e1d",
        "colab": {
          "base_uri": "https://localhost:8080/"
        }
      },
      "execution_count": null,
      "outputs": [
        {
          "output_type": "stream",
          "name": "stdout",
          "text": [
            "10\n",
            "<class 'int'>\n",
            "11.5\n",
            "<class 'float'>\n"
          ]
        }
      ]
    },
    {
      "cell_type": "markdown",
      "source": [
        "## **4. Saída formatada**\n",
        "\n"
      ],
      "metadata": {
        "id": "CH_GgM5BSEVJ"
      }
    },
    {
      "cell_type": "markdown",
      "source": [
        "A função *print* é o principal recurso para saída de mensagens e valores para a saída padrão (geralmente o console).\n",
        "\n",
        "Algumas utilizações do uso simples da função *print*:"
      ],
      "metadata": {
        "id": "IfzFk5RiSWVF"
      }
    },
    {
      "cell_type": "code",
      "source": [
        "# Saída simples (para console)\n",
        "print('Oi!')\n",
        "\n",
        "# A função print() pode imprimir strings, com aspas simples ou duplas\n",
        "print('Oficina Python')\n",
        "print(\"Oficina Python\")\n",
        "\n",
        "# A função print() pode imprimir números inteiros e reais\n",
        "print(2021)\n",
        "print(123.456)\n",
        "\n",
        "# Podemos imprimir o resultado de expressões\n",
        "print(1+2)\n",
        "print(123456 * 7890123)\n",
        "print(1.3 * 2345)"
      ],
      "metadata": {
        "id": "ER5d46NkSwI9"
      },
      "execution_count": null,
      "outputs": []
    },
    {
      "cell_type": "markdown",
      "source": [
        "Utilizamos a função para intercalar mensagens e valores:"
      ],
      "metadata": {
        "id": "1F4QukPmTKd2"
      }
    },
    {
      "cell_type": "code",
      "source": [
        "print('Aula ', 1, 'do curso de Python ', 2025)\n",
        "\n",
        "# Observe o uso dos caracteres especiais\n",
        "# \\n (quebra-de-linha)\n",
        "print('Oficina Python Básico')\n",
        "print('Oficina\\nPython Básico\\n')\n",
        "\n",
        "# \\t (tabulação)\n",
        "print('Python é muito versátil e fácil para aprender')\n",
        "print('Python é\\nmuito versátil e\\tfácil\\tpara\\taprender')"
      ],
      "metadata": {
        "id": "RkVa3-kJTW16",
        "outputId": "19bc2955-6b63-4331-d797-03f64739893e",
        "colab": {
          "base_uri": "https://localhost:8080/"
        }
      },
      "execution_count": null,
      "outputs": [
        {
          "output_type": "stream",
          "name": "stdout",
          "text": [
            "Aula  1 do curso de Python  2025\n",
            "Oficina Python Básico\n",
            "Oficina\n",
            "Python Básico\n",
            "\n",
            "Python é muito versátil e fácil para aprender\n",
            "Python é\n",
            "muito versátil e\tfácil\tpara\taprender\n"
          ]
        }
      ]
    },
    {
      "cell_type": "markdown",
      "source": [
        "Mesmo o uso do print assim seja simples e funcional, atualmente utilizamos uma outra maneira de intercalar mensagens e valores, chamada **f-strings**.\n",
        "Também chamadas de \"strings literais formatadas\" (*formatted string literals*), f-strings são strings com a letra f no início e chaves {} para realizar a interpolação de expressões.\n"
      ],
      "metadata": {
        "id": "LhfYxm3aT6Rm"
      }
    },
    {
      "cell_type": "code",
      "source": [
        "n1 = 5\n",
        "n2 = 3\n",
        "\n",
        "resultado = n1 + n2\n",
        "print(f'A soma de {n1} e {n2} é {resultado}')"
      ],
      "metadata": {
        "id": "RMdgfae9YYob",
        "outputId": "f34285fc-20a4-4880-c9c0-7978ca574dcf",
        "colab": {
          "base_uri": "https://localhost:8080/"
        }
      },
      "execution_count": null,
      "outputs": [
        {
          "output_type": "stream",
          "name": "stdout",
          "text": [
            "A soma de 5 e 3 é 8\n"
          ]
        }
      ]
    },
    {
      "cell_type": "code",
      "source": [
        "resultado = n1 - n2\n",
        "print(f'res({resultado}) contém n1 - n2 (={n1-n2}) para n1={n1} e n2={n2}')"
      ],
      "metadata": {
        "id": "YqDU201HmmO8",
        "outputId": "998f3874-13d2-47bd-f1f8-a45be3032ed2",
        "colab": {
          "base_uri": "https://localhost:8080/"
        }
      },
      "execution_count": null,
      "outputs": [
        {
          "output_type": "stream",
          "name": "stdout",
          "text": [
            "res(2) contém n1 - n2 (=2) para n1=5 e n2=3\n"
          ]
        }
      ]
    },
    {
      "cell_type": "markdown",
      "source": [
        "Podemos usar alguns códigos de formatação, como abaixo:"
      ],
      "metadata": {
        "id": "pmvJkuNEncBY"
      }
    },
    {
      "cell_type": "code",
      "source": [
        "print(f'soma = {resultado}')\n",
        "# Completa com casas \"vazias\" a esquerda\n",
        "print(f'soma = {resultado:4d}')\n",
        "# Completa com zeros à esquerda\n",
        "print(f'soma = {resultado:03d}')"
      ],
      "metadata": {
        "id": "KbHhjZ67nia7",
        "outputId": "cc0a20c8-66ef-4da1-ee4e-243026e15def",
        "colab": {
          "base_uri": "https://localhost:8080/"
        }
      },
      "execution_count": null,
      "outputs": [
        {
          "output_type": "stream",
          "name": "stdout",
          "text": [
            "soma = 2\n",
            "soma =    2\n",
            "soma = 002\n"
          ]
        }
      ]
    },
    {
      "cell_type": "code",
      "source": [
        "pi = 3.14259265359\n",
        "# Apresentação de casas\n",
        "print(f'pi = {pi:.2f}')"
      ],
      "metadata": {
        "id": "4hGJAO2Mny0Y",
        "outputId": "1d4b0ec1-81dd-454b-d6e1-5963366f2e1b",
        "colab": {
          "base_uri": "https://localhost:8080/"
        }
      },
      "execution_count": null,
      "outputs": [
        {
          "output_type": "stream",
          "name": "stdout",
          "text": [
            "pi = 3.14\n"
          ]
        }
      ]
    },
    {
      "cell_type": "code",
      "source": [
        "# Criando f-strings\n",
        "frase = f'Curso de Python {2025}'\n",
        "print(frase)"
      ],
      "metadata": {
        "id": "mjmNEevXpoIB",
        "outputId": "671c6ff8-8f1a-41e9-c731-ff7b81b734bf",
        "colab": {
          "base_uri": "https://localhost:8080/"
        }
      },
      "execution_count": null,
      "outputs": [
        {
          "output_type": "stream",
          "name": "stdout",
          "text": [
            "Curso de Python 2025\n"
          ]
        }
      ]
    },
    {
      "cell_type": "markdown",
      "source": [
        "Veja mais sobre [f-strings](https://docs.python.org/3/library/stdtypes.html#built-in-types) na documentação oficial."
      ],
      "metadata": {
        "id": "84sSQZsqohTI"
      }
    },
    {
      "cell_type": "markdown",
      "source": [
        "## 5. Entrada de dados"
      ],
      "metadata": {
        "id": "lS3qoAZwCMVz"
      }
    },
    {
      "cell_type": "markdown",
      "source": [
        "A função padrão de entrada de dados em Python é o **input**, que é o momento em que nosso programa recebe dados oriundo de fora do sistema, como as entradas pelo usuário.\n",
        "\n",
        "Essa função está preparado para receber a entrada de dados no formato **string**."
      ],
      "metadata": {
        "id": "08dOifBfCRN_"
      }
    },
    {
      "cell_type": "code",
      "source": [
        "nome = input()\n",
        "\n",
        "print(f'Olá {nome}')\n",
        "print(f'tipo da entrada: {type(nome)}')"
      ],
      "metadata": {
        "id": "IE6Kj48ZEpWw",
        "colab": {
          "base_uri": "https://localhost:8080/"
        },
        "outputId": "c784b79b-cf7d-4d02-cded-49f3b5f2bfb2"
      },
      "execution_count": 1,
      "outputs": [
        {
          "output_type": "stream",
          "name": "stdout",
          "text": [
            "josé\n",
            "Olá josé\n",
            "tipo da entrada: <class 'str'>\n"
          ]
        }
      ]
    },
    {
      "cell_type": "markdown",
      "source": [
        "Para melhorar a informação ao usuário, podemos inserir uma mensagem de entrada de dados na própria função."
      ],
      "metadata": {
        "id": "n7lYJbH4E7U0"
      }
    },
    {
      "cell_type": "code",
      "source": [
        "nome = input('Digite seu nome: ')\n",
        "\n",
        "print(f'Olá {nome}')"
      ],
      "metadata": {
        "id": "Md5_H3-0FIQb",
        "colab": {
          "base_uri": "https://localhost:8080/"
        },
        "outputId": "4ccf80ad-15ef-40b7-a1a2-3e5afc463007"
      },
      "execution_count": 2,
      "outputs": [
        {
          "output_type": "stream",
          "name": "stdout",
          "text": [
            "Digite seu nome: josé\n",
            "Olá josé\n"
          ]
        }
      ]
    },
    {
      "cell_type": "markdown",
      "source": [
        "Mas nem sempre utilizamos os dados no formato string, como quando precisamos pegar as entradas e utilizar como números. Para isso, podemos usar a função **int()** para converter o valor para **inteiro** e a função **float()** para converter para número real."
      ],
      "metadata": {
        "id": "I5brTelTFRtM"
      }
    },
    {
      "cell_type": "code",
      "source": [
        "idade = int(input('Digite sua idade: '))\n",
        "altura = float(input('Digite sua altura: '))\n",
        "\n",
        "\n",
        "print(f'Sua idade é {idade}')\n",
        "print(f'tipo da entrada: {type(idade)}')\n",
        "\n",
        "print(f'Sua altura é {altura}')\n",
        "print(f'tipo da entrada: {type(altura)}')\n"
      ],
      "metadata": {
        "id": "RLl9xXTJFqvU",
        "colab": {
          "base_uri": "https://localhost:8080/"
        },
        "outputId": "b90aa7c6-8897-4443-a140-0c8d69131099"
      },
      "execution_count": 3,
      "outputs": [
        {
          "output_type": "stream",
          "name": "stdout",
          "text": [
            "Digite sua idade: 30\n",
            "Digite sua altura: 1.8\n",
            "Sua idade é 30\n",
            "tipo da entrada: <class 'int'>\n",
            "Sua altura é 1.8\n",
            "tipo da entrada: <class 'float'>\n"
          ]
        }
      ]
    },
    {
      "cell_type": "markdown",
      "source": [
        ">**Nota:** Tomem cuidado com as entradas de dados, pois o Python é **fortemente tipado**, ou seja, não força conversões."
      ],
      "metadata": {
        "id": "EweTf3qkGKek"
      }
    },
    {
      "cell_type": "code",
      "source": [
        "x = 10\n",
        "y = 'casa'\n",
        "z = x + float(y)\n",
        "print(z)\n"
      ],
      "metadata": {
        "id": "AMeYgFTdGZt_",
        "colab": {
          "base_uri": "https://localhost:8080/",
          "height": 198
        },
        "outputId": "c397a974-dbee-4650-cee0-13d362c33d34"
      },
      "execution_count": 8,
      "outputs": [
        {
          "output_type": "error",
          "ename": "ValueError",
          "evalue": "could not convert string to float: 'casa'",
          "traceback": [
            "\u001b[0;31m---------------------------------------------------------------------------\u001b[0m",
            "\u001b[0;31mValueError\u001b[0m                                Traceback (most recent call last)",
            "\u001b[0;32m<ipython-input-8-38097bda9662>\u001b[0m in \u001b[0;36m<cell line: 0>\u001b[0;34m()\u001b[0m\n\u001b[1;32m      1\u001b[0m \u001b[0mx\u001b[0m \u001b[0;34m=\u001b[0m \u001b[0;36m10\u001b[0m\u001b[0;34m\u001b[0m\u001b[0;34m\u001b[0m\u001b[0m\n\u001b[1;32m      2\u001b[0m \u001b[0my\u001b[0m \u001b[0;34m=\u001b[0m \u001b[0;34m'casa'\u001b[0m\u001b[0;34m\u001b[0m\u001b[0;34m\u001b[0m\u001b[0m\n\u001b[0;32m----> 3\u001b[0;31m \u001b[0mz\u001b[0m \u001b[0;34m=\u001b[0m \u001b[0mx\u001b[0m \u001b[0;34m+\u001b[0m \u001b[0mfloat\u001b[0m\u001b[0;34m(\u001b[0m\u001b[0my\u001b[0m\u001b[0;34m)\u001b[0m\u001b[0;34m\u001b[0m\u001b[0;34m\u001b[0m\u001b[0m\n\u001b[0m\u001b[1;32m      4\u001b[0m \u001b[0mprint\u001b[0m\u001b[0;34m(\u001b[0m\u001b[0mz\u001b[0m\u001b[0;34m)\u001b[0m\u001b[0;34m\u001b[0m\u001b[0;34m\u001b[0m\u001b[0m\n",
            "\u001b[0;31mValueError\u001b[0m: could not convert string to float: 'casa'"
          ]
        }
      ]
    },
    {
      "cell_type": "markdown",
      "source": [
        "## Exercícios"
      ],
      "metadata": {
        "id": "ouDCj3XtzUF1"
      }
    },
    {
      "cell_type": "markdown",
      "source": [
        "**1. Conversão de Tempo**  \n",
        "Escreva um programa que recebe um número inteiro representando uma quantidade de segundos e converte esse valor para o formato *horas:minutos:segundos*.\n",
        "\n",
        "**Entrada**:  \n",
        "Um número inteiro representando os segundos.  \n",
        "**Saída:**    \n",
        "O tempo convertido no formato hh:mm:ss.\n",
        "\n",
        "**Exemplo:**\n",
        "\n",
        "```\n",
        "Entrada: 3661  \n",
        "Saída: 1:1:1\n",
        "\n",
        "```"
      ],
      "metadata": {
        "id": "8x0aqOHj0cDa"
      }
    },
    {
      "cell_type": "code",
      "source": [
        "segundos = int(input('Entre com os segundos: '))\n",
        "\n",
        "horas = segundos // 3600\n",
        "segundos = segundos % 3600\n",
        "minutos = segundos // 60\n",
        "segundos = segundos % 60\n",
        "\n",
        "print(f\"{horas}:{minutos}:{segundos}\")\n"
      ],
      "metadata": {
        "colab": {
          "base_uri": "https://localhost:8080/"
        },
        "id": "YSipENrcCP1j",
        "outputId": "b6d9f555-48e9-4b34-9098-e55b10f15f8e"
      },
      "execution_count": 11,
      "outputs": [
        {
          "output_type": "stream",
          "name": "stdout",
          "text": [
            "Entre com os segundos: 10000\n",
            "2:46:40\n"
          ]
        }
      ]
    },
    {
      "cell_type": "markdown",
      "source": [
        "**2. Média Ponderada de Notas**  \n",
        "Crie um programa que recebe três notas de um aluno e seus respectivos pesos, calcula a média ponderada e exibe o resultado com duas casas decimais.\n",
        "\n",
        "**Fórmula da média ponderada:**  \n",
        "$\n",
        "M = \\frac{(nota_1 \\times peso_1) + (nota_2 \\times peso_2) + (nota_3 \\times peso_3)}{peso_1 + peso_2 + peso_3}\n",
        "$\n",
        "\n",
        "**Entrada:**  \n",
        "Três números representando as notas\n",
        "Três números representando os pesos das notas\n",
        "**Saída:**  \n",
        "A média ponderada formatada com duas casas decimais.\n",
        "\n",
        "**Exemplo:**  \n",
        "```\n",
        "Entrada:  \n",
        "Nota 1: 8.0  \n",
        "Peso 1: 2  \n",
        "Nota 2: 7.5  \n",
        "Peso 2: 3  \n",
        "Nota 3: 9.0  \n",
        "Peso 3: 5  \n",
        "\n",
        "Saída:  \n",
        "Média Ponderada: 8.35  \n",
        "```\n"
      ],
      "metadata": {
        "id": "yXGXA7Rq0xS2"
      }
    },
    {
      "cell_type": "markdown",
      "source": [
        "**3. Cálculo do Troco**\n",
        "Crie um programa que recebe o valor total de uma compra e o valor pago pelo cliente. O programa deve calcular e exibir o troco a ser devolvido, bem como a quantidade mínima de notas necessárias para entregar esse troco. Considere as seguintes cédulas: `R$100, R$50, R$20, R$10, R$5, R$2 e R$1`.  \n",
        "**Entrada:**  \n",
        "Valor total da compra\n",
        "Valor pago pelo cliente  \n",
        "**Saída:**  \n",
        "Valor do troco\n",
        "Quantidade de cada cédula a ser entregue\n",
        "\n",
        "**Exemplo:**  \n",
        "```\n",
        "Entrada:  \n",
        "Valor da compra: 37  \n",
        "Valor pago: 100  \n",
        "\n",
        "Saída:  \n",
        "Troco: 63  \n",
        "Notas de R$50: 1  \n",
        "Notas de R$10: 1  \n",
        "Notas de R$2: 1  \n",
        "Notas de R$1: 1  \n",
        "\n",
        "```"
      ],
      "metadata": {
        "id": "Qm-gov3W1UXy"
      }
    },
    {
      "cell_type": "markdown",
      "source": [
        "---\n",
        "**Referências**\n",
        "\n",
        "- Documentação oficial do [Python](https://docs.python.org/pt-br/3.13/)\n",
        "- MENEZES, Nilo Ney Coutinho. Introdução à programação com Python. 3ª ed. São Paulo: Novatec, 2020.\n",
        "- Material do prof. [Peter Jandl Jr](https://github.com/pjandl).\n",
        "- Material do prof. [Pedro Correia de Siracusa](https://pedrosiracusa.github.io/)\n",
        "\n"
      ],
      "metadata": {
        "id": "6C0JlYZxyH7h"
      }
    }
  ]
}