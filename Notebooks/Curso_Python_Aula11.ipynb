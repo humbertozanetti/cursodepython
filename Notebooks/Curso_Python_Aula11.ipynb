{
  "nbformat": 4,
  "nbformat_minor": 0,
  "metadata": {
    "colab": {
      "provenance": [],
      "authorship_tag": "ABX9TyPFsGHQD8lLJiIDxq3dl4Ny",
      "include_colab_link": true
    },
    "kernelspec": {
      "name": "python3",
      "display_name": "Python 3"
    },
    "language_info": {
      "name": "python"
    }
  },
  "cells": [
    {
      "cell_type": "markdown",
      "metadata": {
        "id": "view-in-github",
        "colab_type": "text"
      },
      "source": [
        "<a href=\"https://colab.research.google.com/github/humbertozanetti/cursodepython/blob/main/Notebooks/Curso_Python_Aula11.ipynb\" target=\"_parent\"><img src=\"https://colab.research.google.com/assets/colab-badge.svg\" alt=\"Open In Colab\"/></a>"
      ]
    },
    {
      "cell_type": "markdown",
      "source": [
        "# **CURSO DE PYTHON - Aula 11**\n",
        "**PROGRAMAÇÃO ORIENTADA A OBJETOS - Introdução**\n",
        "\n",
        "Prof. Dr. Humberto A. P. Zanetti\n",
        "\n",
        "---"
      ],
      "metadata": {
        "id": "jvsHw4hnAqAH"
      }
    },
    {
      "cell_type": "markdown",
      "source": [
        "## O que é Programação Orientada a Objetos (POO)?\n",
        "A Programação Orientada a Objetos, ou POO (em inglês, *Object-Oriented Programming - OOP*), é um paradigma de programação. Isso significa que é uma maneira de pensar e estruturar seu código de uma forma diferente da **programação tradicional** (imperativa). Em vez de focar apenas em uma sequência de instruções, a POO organiza o código em \"**objetos**\", que são entidades que combinam **dados (características) e comportamentos (ações)**.\n",
        "\n",
        "Imagine que você está construindo um sistema para uma loja de carros. Em uma abordagem tradicional, você teria funções separadas para \"criar carro\", \"pintar carro\", \"acelerar carro\" e variáveis soltas para as características como \"cor do carro\", \"modelo do carro\", etc. Na POO, a ideia é que o \"carro\" seja uma entidade completa, que já sabe quais são suas características e o que ele pode fazer.\n",
        "\n",
        "**Os principais pilares da POO são:**\n",
        "\n",
        "+ **Abstração:** Focar no que é essencial, ignorando detalhes irrelevantes.\n",
        "\n",
        "+ **Encapsulamento:** Agrupar dados e métodos que operam sobre esses dados em uma única unidade (o objeto), protegendo-os de acessos indevidos.\n",
        "\n",
        "+ **Herança:** Permite que novas classes herdem características e comportamentos de classes existentes, promovendo reuso de código.\n",
        "\n",
        "+ **Polimorfismo:** Habilidade de objetos de diferentes classes responderem ao mesmo método de diferentes maneiras."
      ],
      "metadata": {
        "id": "d3Vq8jFcA15y"
      }
    },
    {
      "cell_type": "markdown",
      "source": [
        "## O que é uma Classe?\n",
        "\n",
        "Pense em uma classe como um **molde**, uma **planta baixa**, ou **uma receita** para criar algo. Ela é uma definição abstrata que descreve as características (**atributos**) e os comportamentos (**métodos**) que os objetos desse tipo terão. A classe não é o \"algo\" em si, mas sim o modelo para criar esse \"algo\". E esse \"algo\" seria o **objeto**!\n",
        "\n",
        "**Template básico de uma classe em Python**\n",
        "\n",
        "````python\n",
        "class NomeDaClasse:\n",
        "    # Atributos de classe (opcional):\n",
        "    # São compartilhados por todas as instâncias da classe.\n",
        "    atributo_de_classe = 'valor_padrao'\n",
        "\n",
        "    # Construtor (método especial '__init__'):\n",
        "    # É chamado automaticamente ao criar um novo objeto (instância) da classe.\n",
        "    # 'self' representa a própria instância que está sendo criada.\n",
        "    def __init__(self, parametro1, parametro2):\n",
        "        # Atributos de instância:\n",
        "        # Cada objeto terá sua própria cópia desses atributos.\n",
        "        self.atributo_de_instancia_1 = parametro1\n",
        "        self.atributo_de_instancia_2 = parametro2\n",
        "        self.outro_atributo = 'valor_fixo_para_esta_instancia'\n",
        "\n",
        "    # Métodos (comportamentos):\n",
        "    # Funções que definem o que os objetos dessa classe podem fazer.\n",
        "    # O primeiro parâmetro sempre deve ser 'self'.\n",
        "    def um_metodo(self):\n",
        "        return f'Este é um método do objeto com atributo: {self.atributo_de_instancia_1}'\n",
        "\n",
        "    def outro_metodo(self, arg1):\n",
        "        return f'Este método recebeu o argumento: {arg1} e acessa o atributo de classe: {NomeDaClasse.atributo_de_classe}'\n",
        "````\n",
        "\n",
        "Neste template temos:\n",
        "\n",
        "+ `class NomeDaClasse:`: É assim que você declara uma classe. NomeDaClasse deve começar com letra maiúscula por convenção.\n",
        "\n",
        "+ `atributo_de_classe = \"valor_padrao\"`: Isso é um atributo de classe. Ele pertence à classe em si e é compartilhado por todos os objetos criados a partir dela. Não é muito comum no início, mas é bom saber que existe.\n",
        "\n",
        "+ `def __init__(self, parametro1, parametro2):`: Este é o construtor. O método `__init__` (com dois underscores antes e depois) é um método especial que é executado sempre que você cria um novo objeto da classe. Ele é responsável por inicializar o objeto, ou seja, dar valores iniciais aos seus atributos.\n",
        "  - `self`: É uma referência ao próprio objeto que está sendo criado. É o primeiro parâmetro de qualquer método de instância e é obrigatório.\n",
        "\n",
        "  - `parametro1, parametro2`: São parâmetros que você pode passar ao criar um objeto para definir seus atributos iniciais.\n",
        "\n",
        "+ `self.atributo_de_instancia_1 = parametro1`: Isso cria um atributo de instância. Cada objeto terá sua própria cópia desse atributo, com seu próprio valor. É a forma mais comum de armazenar dados dentro de um objeto.\n",
        "\n",
        "+ `def um_metodo(self):`: Isso define um método (uma função) que os objetos da classe NomeDaClasse podem executar. Métodos definem os comportamentos da classe.\n",
        "   - Novamente, `self` é usado para acessar os atributos e outros métodos do próprio objeto."
      ],
      "metadata": {
        "id": "rDa_yUWiCO0T"
      }
    },
    {
      "cell_type": "markdown",
      "source": [
        "## Exemplo prático de uma classe\n",
        "\n",
        "````python\n",
        "class Cachorro:\n",
        "    # Atributo de classe (todos os cachorros terão esta especie)\n",
        "    especie = 'Canis lupus familiaris'\n",
        "\n",
        "    # Construtor: define os atributos que cada cachorro terá ao ser criado\n",
        "    def __init__(self, nome, raca, idade):\n",
        "        self.nome = nome      # Atributo de instância: nome do cachorro\n",
        "        self.raca = raca      # Atributo de instância: raça do cachorro\n",
        "        self.idade = idade    # Atributo de instância: idade do cachorro\n",
        "\n",
        "    # Método: comportamento de latir\n",
        "    def latir(self):\n",
        "        return f'{self.nome} está latindo: au au!'\n",
        "\n",
        "    # Método: comportamento de comer\n",
        "    def comer(self, comida):\n",
        "        return f'{self.nome} está comendo {comida}.'\n",
        "````\n",
        "\n",
        "Neste exemplo temos:\n",
        "\n",
        "+ `class Cachorro:`: Estamos definindo uma classe chamada Cachorro.\n",
        "\n",
        "+ `especie = \"Canis familiaris\"`: Este é um atributo de classe. Todos os cachorros criados a partir desta classe terão `especie` como \"Canis familiaris\".\n",
        "\n",
        "+ `def __init__(self, nome, raca, idade):`: O construtor. Quando criamos um `Cachorro`, precisamos informar seu `nome`, `raca` e `idade`.\n",
        "\n",
        "   - `self.nome = nome, self.raca = raca, self.idade = idade`: Aqui estamos criando os **atributos de instância** para cada cachorro individual. Cada cachorro terá seu próprio nome, raça e idade.\n",
        "\n",
        "+ `def latir(self):`: Este é um método que define o comportamento de latir. Ele usa `self.nome` para saber qual cachorro está latindo.\n",
        "\n",
        "+ `def comer(self, comida):`: Outro método que define o comportamento de comer, recebendo uma `comida` como parâmetro.\n",
        "\n",
        "Em resumo, a classe Cachorro define que todo cachorro terá uma especie (compartilhada), um nome, uma raca e uma idade (próprios de cada um), e será capaz de latir e comer.\n"
      ],
      "metadata": {
        "id": "63ki9PwoIKgh"
      }
    },
    {
      "cell_type": "markdown",
      "source": [
        "## O que é um Objeto?\n",
        "\n",
        "Um **objeto** é uma **instância concreta de uma classe**. Se a classe é a planta, o objeto é a casa construída a partir daquela planta. Se a classe é a receita, o objeto é o bolo pronto. Cada objeto é uma entidade real e independente, que possui suas próprias cópias dos atributos definidos na classe e pode executar os métodos dela."
      ],
      "metadata": {
        "id": "tBYbP0eCKgOi"
      }
    },
    {
      "cell_type": "code",
      "execution_count": null,
      "metadata": {
        "id": "8WrPkgg5-lDc"
      },
      "outputs": [],
      "source": [
        "#criando objetos\n",
        "\n"
      ]
    },
    {
      "cell_type": "markdown",
      "source": [
        "## EXERCÍCIO\n",
        "\n",
        "Crie uma classe Python chamada Carro e, em seguida, criar alguns objetos (carros) a partir dela, acessando seus atributos e chamando seus métodos para simular ações básicas.\n",
        "\n",
        "**Requisitos da Classe Carro**\n",
        "\n",
        "Sua classe Carro deve ter:\n",
        "\n",
        "**Atributos de Instância:**\n",
        "\n",
        "+ **marca**: A marca do carro (ex: \"Toyota\").\n",
        "\n",
        "+ **modelo**: O modelo do carro (ex: \"Corolla\").\n",
        "\n",
        "+ **ano**: O ano de fabricação do carro (ex: 2020).\n",
        "+ **ligado**: Um valor booleano (True/False) indicando se o carro está ligado ou desligado. Por padrão, todo carro recém-criado deve ser False (desligado).\n",
        "\n",
        "**Métodos:**\n",
        "\n",
        "+ **\\_\\_init\\_\\_(self, marca, modelo, ano)**: O construtor da classe. Ele deve receber a marca, modelo e ano como parâmetros e inicializar os atributos correspondentes. O atributo ligado deve ser inicializado como False.\n",
        "\n",
        "+ **ligar(self)**: Um método que tenta ligar o carro.\n",
        "   - Se o carro estiver ligado (False), ele deve mudar o status para True e retornar uma mensagem como: \"{Marca} {Modelo} foi ligado.\"  \n",
        "  \n",
        "  - Se o carro já estiver ligado (True), ele deve retornar uma mensagem como: \"{Marca} {Modelo} já está ligado.\"\n",
        "\n",
        "+ **desligar(self)**: Um método que tenta desligar o carro.\n",
        "  - Se o carro estiver ligado (True), ele deve mudar o status para False e retornar uma mensagem como: \"{Marca} {Modelo} foi desligado.\"\n",
        "  - Se o carro já estiver ligado (False), ele deve retornar uma mensagem como: \"{Marca} {Modelo} já está desligado.\"\n",
        "\n",
        "+ **status(self)**: Um método que retorna uma string formatada com as informações básicas do carro e seu estado atual\n",
        "\n",
        "Crie objetos e intereja com eles para testar sua classe!"
      ],
      "metadata": {
        "id": "Y9HuZAtHNa7Y"
      }
    }
  ]
}