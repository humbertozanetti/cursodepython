{
  "nbformat": 4,
  "nbformat_minor": 0,
  "metadata": {
    "colab": {
      "provenance": [],
      "authorship_tag": "ABX9TyMP8CUQEraUDlImed6dvesV",
      "include_colab_link": true
    },
    "kernelspec": {
      "name": "python3",
      "display_name": "Python 3"
    },
    "language_info": {
      "name": "python"
    }
  },
  "cells": [
    {
      "cell_type": "markdown",
      "metadata": {
        "id": "view-in-github",
        "colab_type": "text"
      },
      "source": [
        "<a href=\"https://colab.research.google.com/github/humbertozanetti/cursodepython/blob/main/Notebooks/Curso_Python_Aula09.ipynb\" target=\"_parent\"><img src=\"https://colab.research.google.com/assets/colab-badge.svg\" alt=\"Open In Colab\"/></a>"
      ]
    },
    {
      "cell_type": "markdown",
      "source": [
        "# **CURSO DE PYTHON - Aula 09**\n",
        "**FUNÇÕES -  parte 2**\n",
        "\n",
        "Prof. Dr. Humberto A. P. Zanetti\n",
        "\n",
        "---"
      ],
      "metadata": {
        "id": "q7GU7m1TrodW"
      }
    },
    {
      "cell_type": "markdown",
      "source": [
        "## **Mais sobre argumentos de entradas e retorno**\n",
        "\n",
        "Como argumentos de entradas podemos passar estruturas de dados, como por exemplo, **listas**. Com isso, a atribuição para o parâmetro de entrada também se torna uma lista.\n"
      ],
      "metadata": {
        "id": "TZCSx0LDsB14"
      }
    },
    {
      "cell_type": "code",
      "source": [
        "def soma_lista(lista):\n",
        "  soma = 0\n",
        "  for elemento in lista:\n",
        "    soma += elemento\n",
        "  return soma\n",
        "\n",
        "l = [1,2,3,4,5]\n",
        "\n",
        "print(soma_lista(l))"
      ],
      "metadata": {
        "id": "7xdFjZZhtQGt"
      },
      "execution_count": null,
      "outputs": []
    },
    {
      "cell_type": "markdown",
      "source": [
        "Além de usar **listas como entrada**, podemos usar **listas como retorno**.   \n",
        "A atribuição do retorno, irá gerar uma nova lista.\n"
      ],
      "metadata": {
        "id": "TON8Ed0rtvqj"
      }
    },
    {
      "cell_type": "code",
      "source": [
        "def obter_numeros_do_usuario():\n",
        "  numeros = []\n",
        "  while True:\n",
        "      entrada = input('Digite um número (ou ZERO p/ sair): ')\n",
        "      numero = float(entrada)\n",
        "      if numero == 0:\n",
        "          break\n",
        "      else:\n",
        "        numeros.append(numero)\n",
        "  return numeros\n",
        "\n",
        "lista = obter_numeros_do_usuario()\n",
        "print(f'Os números inseridos foram: {lista}')"
      ],
      "metadata": {
        "id": "oK3PeSPwuPZX"
      },
      "execution_count": null,
      "outputs": []
    },
    {
      "cell_type": "markdown",
      "source": [
        "### **EXERCÍCIO**\n",
        "\n",
        "1. Faça uma função que receba como entrada uma lista de valores inteiros e um número, que deverá ser buscado dentro dessa lista. Essa função deverá retornar mostrar \"Número encontrado\" ou \"Não há esse número na lista\".\n",
        "2. Refaça a função anterior, mas agora a função deverá retornar uma lista, mostrando em quais índices o número buscado aparece. Caso não haja o número na lista, irá retornar a frase \"valor não encontrado\".  "
      ],
      "metadata": {
        "id": "IPofPTAxvZkB"
      }
    },
    {
      "cell_type": "code",
      "source": [
        "# EXERCÍCIO 1\n",
        "def buscar_numero(lista, numero):\n",
        "  encontrado = False\n",
        "  for elemento in lista:\n",
        "    if elemento == numero:\n",
        "      encontrado = True\n",
        "      break\n",
        "\n",
        "  if encontrado:\n",
        "    print('Número encontrado')\n",
        "  else:\n",
        "    print('Não há esse número na lista')\n",
        "\n",
        "minha_lista = [10, 20, 30, 40, 50]\n",
        "numero_buscar = 30\n",
        "buscar_numero(minha_lista, numero_buscar)\n",
        "\n",
        "numero_buscar = 60\n",
        "buscar_numero(minha_lista, numero_buscar)"
      ],
      "metadata": {
        "colab": {
          "base_uri": "https://localhost:8080/"
        },
        "id": "vs4ciz1O0l_g",
        "outputId": "b7def3b9-f623-482f-f5f9-9206455b5100"
      },
      "execution_count": 3,
      "outputs": [
        {
          "output_type": "stream",
          "name": "stdout",
          "text": [
            "Número encontrado\n",
            "Não há esse número na lista\n"
          ]
        }
      ]
    },
    {
      "cell_type": "code",
      "source": [
        "def buscar_numero(lista, numero):\n",
        "  if numero in lista:\n",
        "    print('Número encontrado')\n",
        "  else:\n",
        "    print('Não há esse número na lista')\n",
        "\n",
        "minha_lista = [10, 20, 30, 40, 50]\n",
        "numero_buscar = 30\n",
        "buscar_numero(minha_lista, numero_buscar)\n",
        "\n",
        "numero_buscar = 60\n",
        "buscar_numero(minha_lista, numero_buscar)"
      ],
      "metadata": {
        "id": "RikTRv4L1JkF"
      },
      "execution_count": null,
      "outputs": []
    },
    {
      "cell_type": "code",
      "source": [
        "# EXERCÍCIO 2\n",
        "def buscar_numero(lista, numero):\n",
        "  encontrado = False\n",
        "  cont = 0\n",
        "  indices = []\n",
        "  for elemento in lista:\n",
        "    if elemento == numero:\n",
        "      encontrado = True\n",
        "      indices.append(cont)\n",
        "    cont += 1\n",
        "\n",
        "  if encontrado:\n",
        "    return indices\n",
        "  else:\n",
        "    return 'Valor não encontrado'\n",
        "\n",
        "minha_lista = [10, 20, 10, 40, 10]\n",
        "numero_buscar = 10\n",
        "print(f'Índices: {buscar_numero(minha_lista, numero_buscar)}')\n",
        "\n",
        "minha_lista = [10, 20, 10, 40, 10]\n",
        "numero_buscar = 30\n",
        "print(buscar_numero(minha_lista, numero_buscar))"
      ],
      "metadata": {
        "colab": {
          "base_uri": "https://localhost:8080/"
        },
        "id": "vMRo0vgZ3l0Q",
        "outputId": "14b77607-f073-4d2c-83b0-3cb56cdfbd8e"
      },
      "execution_count": 9,
      "outputs": [
        {
          "output_type": "stream",
          "name": "stdout",
          "text": [
            "Índices: [0, 2, 4]\n",
            "Valor não encontrado\n"
          ]
        }
      ]
    },
    {
      "cell_type": "markdown",
      "source": [
        "## **Retorno multivalorado**\n",
        "\n",
        "Também podemos usar mais do que um valor (valor único ou conjunto de dados) de **uma única vez no retorno**.  \n",
        "Para isso, declaramos junto ao `return` os vários valores, separados por vírgula (**,**)."
      ],
      "metadata": {
        "id": "7dT70r1yyrRR"
      }
    },
    {
      "cell_type": "code",
      "source": [
        "def dobrar_valores(valor1, valor2):\n",
        "  d_valor1 = valor1 * 2\n",
        "  d_valor2 = valor2 * 2\n",
        "  return d_valor1, d_valor2\n",
        "\n",
        "v1 = 10\n",
        "v2 = 5\n",
        "dobro_v1, dobro_v2 = dobrar_valores(v1, v2)\n",
        "print(f'O dobro de {v1} é {dobro_v1}')\n",
        "print(f'O dobro de {v2} é {dobro_v2}')"
      ],
      "metadata": {
        "id": "33cWi3i7zmR_"
      },
      "execution_count": null,
      "outputs": []
    },
    {
      "cell_type": "markdown",
      "source": [
        "Essa possibilidade de retorno **multivalorado**, na verdade, é possível pois é formado uma estrutura chamada **tupla!**.  \n",
        "Tuplas tem uma estrutura similar à listas, mas são menos flexíveis. Essa estrutura será melhor apresentada em aulas postetiores.  \n",
        "Como padrão, usamos esse retorno multivalorado de forma **\"pareado\"**, ou seja, **usar a mesma quantidade de váriaveis para receber a quantidade equivalente de retorno**."
      ],
      "metadata": {
        "id": "sCXrKhGF0R8e"
      }
    },
    {
      "cell_type": "markdown",
      "source": [
        "### **EXERCÍCIO**\n",
        "\n",
        "1. Faça uma função que receba 2 números inteiros e retorne a média entre os valores e o maior valor inserido.  \n",
        "2. Faça uma função que receba uma lista de valores inteiros e retorne a soma desses valores, o maior valor e o menor valor."
      ],
      "metadata": {
        "id": "fGXfspEj1OX-"
      }
    },
    {
      "cell_type": "code",
      "source": [
        "def calcular_media_maior(num1, num2):\n",
        "  media = (num1 + num2) / 2\n",
        "  maior = max(num1, num2)\n",
        "  return media, maior\n",
        "\n",
        "num1 = 10\n",
        "num2 = 20\n",
        "media, maior = calcular_media_maior(num1, num2)\n",
        "print(f'A média entre {numero1} e {numero2} é {media}')\n",
        "print(f'O maior valor entre {numero1} e {numero2} é {maior}')"
      ],
      "metadata": {
        "id": "n613r48OASaU"
      },
      "execution_count": null,
      "outputs": []
    },
    {
      "cell_type": "markdown",
      "source": [
        "### **Entradas multivaloradas**\n",
        "\n",
        "Assim como temos retornos multivalorados, pode ter **entradas multivaloradas**, ou seja, uma **quantidade indefinida de valores de entrada**.  \n"
      ],
      "metadata": {
        "id": "ELHlJmdt-62P"
      }
    },
    {
      "cell_type": "code",
      "source": [
        "def parametros_indefinidos(*args):\n",
        "  print('Você passou os seguintes argumentos:')\n",
        "  for arg in args:\n",
        "    print(arg)\n",
        "\n",
        "parametros_indefinidos(1, 2.0, '3',True)"
      ],
      "metadata": {
        "id": "JFlwztnDAfSu",
        "colab": {
          "base_uri": "https://localhost:8080/"
        },
        "outputId": "52113b8f-9ab3-43e2-d88f-5a33c23ffab6"
      },
      "execution_count": 12,
      "outputs": [
        {
          "output_type": "stream",
          "name": "stdout",
          "text": [
            "Você passou os seguintes argumentos:\n",
            "1\n",
            "2.0\n",
            "3\n",
            "True\n"
          ]
        }
      ]
    },
    {
      "cell_type": "markdown",
      "source": [
        "### **EXERCÍCIO**\n",
        "\n",
        "1. Faça uma função que receba um número indeterminado de parâmetros de entrada, sendo eles valores númericos, e mostre a soma desses valores."
      ],
      "metadata": {
        "id": "wmcoqx2xgLJm"
      }
    },
    {
      "cell_type": "code",
      "source": [
        "def somar_numeros(*args):\n",
        "  soma = 0\n",
        "  for numero in args:\n",
        "      soma += numero\n",
        "  print(f'A soma dos valores numéricos é: {soma}')\n",
        "\n",
        "somar_numeros(1, 2, 3, 4.5, 5, 10)\n",
        "somar_numeros(100, 200)\n",
        "somar_numeros(1.1, 2.2, 3.3)\n",
        "somar_numeros()\n"
      ],
      "metadata": {
        "colab": {
          "base_uri": "https://localhost:8080/"
        },
        "id": "9i-V9HI0F1uJ",
        "outputId": "26b1c445-ce9f-414c-cb99-fef73c3e7e8d"
      },
      "execution_count": 16,
      "outputs": [
        {
          "output_type": "stream",
          "name": "stdout",
          "text": [
            "A soma dos valores numéricos é: 25.5\n",
            "A soma dos valores numéricos é: 300\n",
            "A soma dos valores numéricos é: 6.6\n",
            "A soma dos valores numéricos é: 0\n"
          ]
        }
      ]
    }
  ]
}