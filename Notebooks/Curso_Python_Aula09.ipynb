{
  "nbformat": 4,
  "nbformat_minor": 0,
  "metadata": {
    "colab": {
      "provenance": [],
      "authorship_tag": "ABX9TyNIPT05vKf0rfkDYn1h/JM4",
      "include_colab_link": true
    },
    "kernelspec": {
      "name": "python3",
      "display_name": "Python 3"
    },
    "language_info": {
      "name": "python"
    }
  },
  "cells": [
    {
      "cell_type": "markdown",
      "metadata": {
        "id": "view-in-github",
        "colab_type": "text"
      },
      "source": [
        "<a href=\"https://colab.research.google.com/github/humbertozanetti/cursodepython/blob/main/Notebooks/Curso_Python_Aula09.ipynb\" target=\"_parent\"><img src=\"https://colab.research.google.com/assets/colab-badge.svg\" alt=\"Open In Colab\"/></a>"
      ]
    },
    {
      "cell_type": "markdown",
      "source": [
        "# **CURSO DE PYTHON - Aula 09**\n",
        "**FUNÇÕES -  parte 2**\n",
        "\n",
        "Prof. Dr. Humberto A. P. Zanetti\n",
        "\n",
        "---"
      ],
      "metadata": {
        "id": "q7GU7m1TrodW"
      }
    },
    {
      "cell_type": "markdown",
      "source": [
        "## **Mais sobre argumentos de entradas e retorno**\n",
        "\n",
        "Como argumentos de entradas podemos passar estruturas de dados, como por exemplo, **listas**. Com isso, a atribuição para o parâmtero de entrada também se torna uma lista.\n"
      ],
      "metadata": {
        "id": "TZCSx0LDsB14"
      }
    },
    {
      "cell_type": "code",
      "source": [
        "def soma_lista(lista):\n",
        "  soma = 0\n",
        "  for elemento in lista:\n",
        "    soma += elemento\n",
        "  return soma\n",
        "\n",
        "l = [1,2,3,4,5]\n",
        "\n",
        "print(soma_lista(l))"
      ],
      "metadata": {
        "id": "7xdFjZZhtQGt"
      },
      "execution_count": null,
      "outputs": []
    },
    {
      "cell_type": "markdown",
      "source": [
        "Além de usar **listas como entrada**, podemos usar **listas como retorno**.   \n",
        "A atribuição do retorno, irá gerar uma nova lista.\n"
      ],
      "metadata": {
        "id": "TON8Ed0rtvqj"
      }
    },
    {
      "cell_type": "code",
      "source": [
        "def obter_numeros_do_usuario():\n",
        "  numeros = []\n",
        "  while True:\n",
        "      entrada = input('Digite um número (ou ZERO p/ sair): ')\n",
        "      numero = float(entrada)\n",
        "      if numero == 0:\n",
        "          break\n",
        "      else:\n",
        "        numeros.append(numero)\n",
        "  return numeros\n",
        "\n",
        "lista = obter_numeros_do_usuario()\n",
        "print(f'Os números inseridos foram: {lista}')\n"
      ],
      "metadata": {
        "id": "oK3PeSPwuPZX"
      },
      "execution_count": null,
      "outputs": []
    }
  ]
}