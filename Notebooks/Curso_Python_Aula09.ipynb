{
  "nbformat": 4,
  "nbformat_minor": 0,
  "metadata": {
    "colab": {
      "provenance": [],
      "authorship_tag": "ABX9TyO97/0S4xXf4+QxPtPI8OXF",
      "include_colab_link": true
    },
    "kernelspec": {
      "name": "python3",
      "display_name": "Python 3"
    },
    "language_info": {
      "name": "python"
    }
  },
  "cells": [
    {
      "cell_type": "markdown",
      "metadata": {
        "id": "view-in-github",
        "colab_type": "text"
      },
      "source": [
        "<a href=\"https://colab.research.google.com/github/humbertozanetti/cursodepython/blob/main/Notebooks/Curso_Python_Aula09.ipynb\" target=\"_parent\"><img src=\"https://colab.research.google.com/assets/colab-badge.svg\" alt=\"Open In Colab\"/></a>"
      ]
    },
    {
      "cell_type": "markdown",
      "source": [
        "# **CURSO DE PYTHON - Aula 09**\n",
        "**FUNÇÕES -  parte 2**\n",
        "\n",
        "Prof. Dr. Humberto A. P. Zanetti\n",
        "\n",
        "---"
      ],
      "metadata": {
        "id": "q7GU7m1TrodW"
      }
    },
    {
      "cell_type": "markdown",
      "source": [
        "## **Mais sobre argumentos de entradas e retorno**\n",
        "\n",
        "Como argumentos de entradas podemos passar estruturas de dados, como por exemplo, **listas**. Com isso, a atribuição para o parâmetro de entrada também se torna uma lista.\n"
      ],
      "metadata": {
        "id": "TZCSx0LDsB14"
      }
    },
    {
      "cell_type": "code",
      "source": [
        "def soma_lista(lista):\n",
        "  soma = 0\n",
        "  for elemento in lista:\n",
        "    soma += elemento\n",
        "  return soma\n",
        "\n",
        "l = [1,2,3,4,5]\n",
        "\n",
        "print(soma_lista(l))"
      ],
      "metadata": {
        "id": "7xdFjZZhtQGt"
      },
      "execution_count": null,
      "outputs": []
    },
    {
      "cell_type": "markdown",
      "source": [
        "Além de usar **listas como entrada**, podemos usar **listas como retorno**.   \n",
        "A atribuição do retorno, irá gerar uma nova lista.\n"
      ],
      "metadata": {
        "id": "TON8Ed0rtvqj"
      }
    },
    {
      "cell_type": "code",
      "source": [
        "def obter_numeros_do_usuario():\n",
        "  numeros = []\n",
        "  while True:\n",
        "      entrada = input('Digite um número (ou ZERO p/ sair): ')\n",
        "      numero = float(entrada)\n",
        "      if numero == 0:\n",
        "          break\n",
        "      else:\n",
        "        numeros.append(numero)\n",
        "  return numeros\n",
        "\n",
        "lista = obter_numeros_do_usuario()\n",
        "print(f'Os números inseridos foram: {lista}')"
      ],
      "metadata": {
        "id": "oK3PeSPwuPZX"
      },
      "execution_count": null,
      "outputs": []
    },
    {
      "cell_type": "markdown",
      "source": [
        "### **EXERCÍCIO**\n",
        "\n",
        "1. Faça uma função que receba como entrada uma lista de valores inteiros e um número, que deverá ser buscado dentro dessa lista. Essa função deverá retornar mostrar \"Número encontrado\" ou \"Não há esse número na lista\".\n",
        "2. Refaça a função anterior, mas agora a função deverá retornar uma lista, mostrando em quais índices o número buscado aparece. Caso não haja o número na lista, irá retornar a frase \"valor não encontrado\".  "
      ],
      "metadata": {
        "id": "IPofPTAxvZkB"
      }
    },
    {
      "cell_type": "markdown",
      "source": [
        "## **Retorno multivalorado**\n",
        "\n",
        "Também podemos usar mais do que um valor (valor único ou conjunto de dados) de **uma única vez no retorno**.  \n",
        "Para isso, declaramos junto ao `return` os vários valores, separados por vírgula (**,**)."
      ],
      "metadata": {
        "id": "7dT70r1yyrRR"
      }
    },
    {
      "cell_type": "code",
      "source": [
        "def dobrar_valores(valor1, valor2):\n",
        "  d_valor1 = valor1 * 2\n",
        "  d_valor2 = valor2 * 2\n",
        "  return d_valor1, d_valor2\n",
        "\n",
        "v1 = 10\n",
        "v2 = 5\n",
        "dobro_v1, dobro_v2 = dobrar_valores(v1, v2)\n",
        "print(f'O dobro de {v1} é {dobro_v1}')\n",
        "print(f'O dobro de {v2} é {dobro_v2}')"
      ],
      "metadata": {
        "id": "33cWi3i7zmR_"
      },
      "execution_count": null,
      "outputs": []
    },
    {
      "cell_type": "markdown",
      "source": [
        "Essa possibilidade de retorno **multivalorado**, na verdade, é possível pois é formado uma estrutura chamada **tupla!**.  \n",
        "Tuplas tem uma estrutura similar à listas, mas são menos flexíveis. Essa estrutura será melhor apresentada em aulas postetiores.  \n",
        "Como padrão, usamos esse retorno multivalorado de forma **\"pareado\"**, ou seja, **usar a mesma quantidade de váriaveis para receber a quantidade equivalente de retorno**."
      ],
      "metadata": {
        "id": "sCXrKhGF0R8e"
      }
    },
    {
      "cell_type": "markdown",
      "source": [
        "### **EXERCÍCIO**\n",
        "\n",
        "1. Faça uma função que receba 2 números inteiros e retorne a média entre os valores e o maior valor inserido.  \n",
        "2. Faça uma função que receba uma lista de valores interiros e retorne a soma desses valores, o maior valor e o menor valor."
      ],
      "metadata": {
        "id": "fGXfspEj1OX-"
      }
    },
    {
      "cell_type": "markdown",
      "source": [
        "### **Entradas multivaloradas**\n",
        "\n",
        "Assim como temos retornos multivalorados, pode ter **entradas multivaloradas**, ou seja, uma **quantidade indefinida de valores de entrada**.  \n"
      ],
      "metadata": {
        "id": "ELHlJmdt-62P"
      }
    },
    {
      "cell_type": "code",
      "source": [
        "def parametros_indefinidos(*args):\n",
        "  print('Você passou os seguintes argumentos:')\n",
        "  for arg in args:\n",
        "    print(arg)\n"
      ],
      "metadata": {
        "id": "JFlwztnDAfSu"
      },
      "execution_count": null,
      "outputs": []
    },
    {
      "cell_type": "markdown",
      "source": [
        "### **EXERCÍCIO**\n",
        "\n",
        "1. Faça uma função que receba um número indeterminado de parâmetros de entrada, sendo eles valores númericos, e mostre a soma desses valores."
      ],
      "metadata": {
        "id": "wmcoqx2xgLJm"
      }
    }
  ]
}