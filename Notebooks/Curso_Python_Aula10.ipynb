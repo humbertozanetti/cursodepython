{
  "nbformat": 4,
  "nbformat_minor": 0,
  "metadata": {
    "colab": {
      "provenance": [],
      "authorship_tag": "ABX9TyOblBhxSB4lCR/iyrSNCtDX",
      "include_colab_link": true
    },
    "kernelspec": {
      "name": "python3",
      "display_name": "Python 3"
    },
    "language_info": {
      "name": "python"
    }
  },
  "cells": [
    {
      "cell_type": "markdown",
      "metadata": {
        "id": "view-in-github",
        "colab_type": "text"
      },
      "source": [
        "<a href=\"https://colab.research.google.com/github/humbertozanetti/cursodepython/blob/main/Notebooks/Curso_Python_Aula10.ipynb\" target=\"_parent\"><img src=\"https://colab.research.google.com/assets/colab-badge.svg\" alt=\"Open In Colab\"/></a>"
      ]
    },
    {
      "cell_type": "markdown",
      "source": [
        "# **CURSO DE PYTHON - Aula 10**\n",
        "**DICIONÁRIOS EM PYTHON**\n",
        "\n",
        "Prof. Dr. Humberto A. P. Zanetti\n",
        "\n",
        "---"
      ],
      "metadata": {
        "id": "jvsHw4hnAqAH"
      }
    },
    {
      "cell_type": "markdown",
      "source": [
        "## **O que é um dicionário em Python?**\n",
        "\n",
        "Um dicionário é uma estrutura que **mapeia chaves a valores**. É semelhante a uma \"agenda telefônica\", onde você procura pelo nome (chave) e obtém o telefone (valor).\n",
        "\n",
        "```python\n",
        "aluno = {\n",
        "#    'nome': 'Betina',\n",
        "    'idade': 6,\n",
        "    'notas': [9.5, 8.0, 10.0]\n",
        "}\n",
        "print(aluno['nome'])  # Betina\n"
      ],
      "metadata": {
        "id": "d3Vq8jFcA15y"
      }
    },
    {
      "cell_type": "markdown",
      "source": [
        "## **Criando e manipulando dicionários**\n",
        "\n",
        "**Criando:**\n",
        "\n",
        "````python\n",
        "vazio = {}\n",
        "aluno = dict(nome='Carlos', idade=17)\n",
        "\n",
        "````\n",
        "\n",
        "**Atualizando:**\n",
        "````python\n",
        "aluno['curso'] = 'Ciência de Dados'\n",
        "aluno['idade'] = 18  # atualiza\n",
        "\n",
        "````\n",
        "\n",
        "**Removendo:**\n",
        "````python\n",
        "del aluno['idade']\n",
        "````\n",
        "\n",
        "**Acessando dados:**\n",
        "````python\n",
        "print(f'aluno[idade]')\n",
        "````\n",
        "\n",
        "**Iterando dados em dicionário:**\n",
        "\n",
        "````python\n",
        "for chave in aluno:\n",
        "    print(f'{chave}: {aluno[chave]}')\n",
        "\n",
        "for chave, valor in aluno.items():\n",
        "    print(f'{chave} => {valor}')\n",
        "````\n"
      ],
      "metadata": {
        "id": "rDa_yUWiCO0T"
      }
    },
    {
      "cell_type": "markdown",
      "source": [
        "## **Exemplo com arquivos**\n",
        "\n",
        "Vamos imaginar um arquivo `alunos.txt` com o seguinte conteúdo:\n",
        "\n",
        "````txt\n",
        "Carlos,8.5\n",
        "Betina,9.7\n",
        "João,7.0\n",
        "````\n",
        "\n",
        "**Para ler o arquivo:**\n",
        "````python\n",
        "notas = {}\n",
        "\n",
        "with open('alunos.txt', 'r') as arquivo:\n",
        "    for linha in arquivo:\n",
        "        nome, nota = linha.strip().split(',')\n",
        "        notas[nome] = float(nota)\n",
        "\n",
        "print(notas)\n",
        "\n",
        "````"
      ],
      "metadata": {
        "id": "dxr9_LixxRKG"
      }
    }
  ]
}