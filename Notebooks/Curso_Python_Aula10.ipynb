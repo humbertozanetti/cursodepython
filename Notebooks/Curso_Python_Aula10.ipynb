{
  "nbformat": 4,
  "nbformat_minor": 0,
  "metadata": {
    "colab": {
      "provenance": [],
      "authorship_tag": "ABX9TyOlyrlwThp+HAE8lai5bkpb",
      "include_colab_link": true
    },
    "kernelspec": {
      "name": "python3",
      "display_name": "Python 3"
    },
    "language_info": {
      "name": "python"
    }
  },
  "cells": [
    {
      "cell_type": "markdown",
      "metadata": {
        "id": "view-in-github",
        "colab_type": "text"
      },
      "source": [
        "<a href=\"https://colab.research.google.com/github/humbertozanetti/cursodepython/blob/main/Notebooks/Curso_Python_Aula10.ipynb\" target=\"_parent\"><img src=\"https://colab.research.google.com/assets/colab-badge.svg\" alt=\"Open In Colab\"/></a>"
      ]
    },
    {
      "cell_type": "markdown",
      "source": [
        "# **CURSO DE PYTHON - Aula 10**\n",
        "**DICIONÁRIOS EM PYTHON**\n",
        "\n",
        "Prof. Dr. Humberto A. P. Zanetti\n",
        "\n",
        "---"
      ],
      "metadata": {
        "id": "jvsHw4hnAqAH"
      }
    },
    {
      "cell_type": "markdown",
      "source": [
        "## **O que é um dicionário em Python?**\n",
        "\n",
        "Um dicionário é uma estrutura que **mapeia chaves a valores**. É semelhante a uma \"agenda telefônica\", onde você procura pelo nome (chave) e obtém o telefone (valor).\n",
        "\n",
        "```python\n",
        "aluno = {\n",
        "    'nome': 'Betina',\n",
        "    'idade': 6,\n",
        "    'notas': [9.5, 8.0, 10.0]\n",
        "}\n",
        "print(aluno['nome'])  # Betina  \n",
        "````\n",
        "\n",
        "![dicionario](https://www.learnbyexample.org/wp-content/uploads/python/Dictionary-Key-Value-Pairs-Illustration.png)"
      ],
      "metadata": {
        "id": "d3Vq8jFcA15y"
      }
    },
    {
      "cell_type": "markdown",
      "source": [
        "## **Criando e manipulando dicionários**\n",
        "\n",
        "**Criando:**\n",
        "\n",
        "````python\n",
        "vazio = {}\n",
        "aluno = dict(nome='Carlos', idade=17)\n",
        "\n",
        "````\n",
        "\n",
        "**Atualizando e inserindo:**\n",
        "````python\n",
        "aluno['curso'] = 'Ciência de Dados'\n",
        "aluno['idade'] = 18  # atualiza\n",
        "\n",
        "````\n",
        "\n",
        "**Removendo:**\n",
        "````python\n",
        "del aluno['idade']\n",
        "````\n",
        "\n",
        "**Acessando dados:**\n",
        "````python\n",
        "print(f'aluno[idade]')\n",
        "````\n",
        "\n",
        "**Iterando dados em dicionário:**\n",
        "\n",
        "````python\n",
        "for chave in aluno:\n",
        "    print(f'{chave}: {aluno[chave]}')\n",
        "\n",
        "for chave, valor in aluno.items():\n",
        "    print(f'{chave} => {valor}')\n",
        "````\n"
      ],
      "metadata": {
        "id": "rDa_yUWiCO0T"
      }
    },
    {
      "cell_type": "markdown",
      "source": [
        "## **Exemplo com arquivos**\n",
        "\n",
        "Vamos imaginar um arquivo `alunos.txt` com o seguinte conteúdo:\n",
        "\n",
        "````txt\n",
        "Carlos,8.5\n",
        "Betina,9.7\n",
        "João,7.0\n",
        "````\n",
        "\n",
        "**Para ler o arquivo:**\n",
        "````python\n",
        "notas = {}\n",
        "\n",
        "with open('alunos.txt', 'r') as arquivo:\n",
        "    for linha in arquivo:\n",
        "        nome, nota = linha.strip().split(',')\n",
        "        notas[nome] = float(nota)\n",
        "\n",
        "print(notas)\n",
        "\n",
        "# Percorrer apenas as chaves (nomes dos alunos):\n",
        "for nome in notas:\n",
        "    print(f'Aluno: {nome} - Nota: {notas[nome]}')\n",
        "\n",
        "# Percorrer as chaves e valores ao mesmo tempo (mais comum)\n",
        "for nome, nota in notas.items():\n",
        "    print(f'Aluno: {nome} - Nota: {nota}')\n",
        "\n",
        "\n",
        "# Percorrer apenas os valores (notas):\n",
        "for nota in notas.values():\n",
        "    print(f'Nota: {nota}')\n",
        "\n",
        "# Percorrer as chaves separadamente:\n",
        "for nome in notas.keys():\n",
        "    print(f'Aluno: {nome}')\n",
        "\n",
        "\n",
        "````"
      ],
      "metadata": {
        "id": "dxr9_LixxRKG"
      }
    },
    {
      "cell_type": "markdown",
      "source": [
        "**Outro exemplo**\n",
        "\n",
        "Vamos montar um dicionário a partir de um arquivo com nomes de alunos e suas notas. O dicionário usará o nome como chave e o valor será a média das notas.\n",
        "\n",
        "`notas.txt`\n",
        "\n",
        "````txt\n",
        "Carlos,8.5,7.0,9.0\n",
        "Betina,10.0,9.5,9.8\n",
        "João,6.0,5.0,7.0\n",
        "````\n",
        "\n",
        "Criando o dicionário:\n",
        "\n",
        "````python\n",
        "medias = {}\n",
        "\n",
        "with open('notas.txt', 'r') as arquivo:\n",
        "    for linha in arquivo:\n",
        "        partes = linha.strip().split(',')\n",
        "        nome = partes[0]\n",
        "        notas_str = partes[1:]\n",
        "        notas = []\n",
        "\n",
        "        for nota_str in notas_str:\n",
        "            notas.append(float(nota_str))\n",
        "\n",
        "        medias[nome] = sum(notas) / len(notas)\n",
        "\n",
        "print(medias)\n",
        "\n",
        "````"
      ],
      "metadata": {
        "id": "W4xXrBe6O1R3"
      }
    },
    {
      "cell_type": "markdown",
      "source": [
        "## EXERCÍCIO\n",
        "\n",
        "Crie um programa que leia um arquivo .txt com nomes de cidades e temperaturas registradas e retorne a cidade **mais quente e mais fria**.\n",
        "\n",
        "````txt\n",
        "São Paulo,22.4\n",
        "Rio de Janeiro,29.1\n",
        "Curitiba,17.8\n",
        "Porto Alegre,19.2\n",
        "Salvador,27.6\n",
        "Belo Horizonte,21.3\n",
        "Manaus,30.2\n",
        "Fortaleza,28.7\n",
        "Brasília,20.5\n",
        "Recife,26.4\n",
        "Belém,31.1\n",
        "Cuiabá,35.0\n",
        "Florianópolis,18.9\n",
        "Natal,27.0\n",
        "Campo Grande,33.2\n",
        "````\n",
        "\n",
        "**DICA:** inicialize as variáveis com os seguintes valores:\n",
        "````python\n",
        "cidade_mais_quente = None\n",
        "temp_mais_quente = float('-inf')\n",
        "\n",
        "cidade_mais_fria = None\n",
        "temp_mais_fria = float('inf')\n",
        "````"
      ],
      "metadata": {
        "id": "-ruKNwYsRKCA"
      }
    }
  ]
}