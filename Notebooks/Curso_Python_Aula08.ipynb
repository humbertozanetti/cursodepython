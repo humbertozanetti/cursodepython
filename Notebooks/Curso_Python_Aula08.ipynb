{
  "nbformat": 4,
  "nbformat_minor": 0,
  "metadata": {
    "colab": {
      "provenance": [],
      "authorship_tag": "ABX9TyNgMJTYnIk+FUvwN9AUeP7I",
      "include_colab_link": true
    },
    "kernelspec": {
      "name": "python3",
      "display_name": "Python 3"
    },
    "language_info": {
      "name": "python"
    }
  },
  "cells": [
    {
      "cell_type": "markdown",
      "metadata": {
        "id": "view-in-github",
        "colab_type": "text"
      },
      "source": [
        "<a href=\"https://colab.research.google.com/github/humbertozanetti/cursodepython/blob/main/Notebooks/Curso_Python_Aula08.ipynb\" target=\"_parent\"><img src=\"https://colab.research.google.com/assets/colab-badge.svg\" alt=\"Open In Colab\"/></a>"
      ]
    },
    {
      "cell_type": "markdown",
      "source": [
        "# **CURSO DE PYTHON - Aula 08**\n",
        "**FUNÇÕES -  parte 1**\n",
        "\n",
        "Prof. Dr. Humberto A. P. Zanetti\n",
        "\n",
        "---"
      ],
      "metadata": {
        "id": "ix7iUVHjQbKt"
      }
    },
    {
      "cell_type": "markdown",
      "source": [
        "## **O que são funções?**\n",
        "\n",
        "Em Python (e em qualquer linguagem de programação), **funções** são blocos de código reutilizáveis que executam uma tarefa específica.   \n",
        "Uma função é como uma **\"máquina\"** ou uma **\"caixinha\"** que recebe uma ou mais entradas (parâmetros), faz algum processamento interno, e pode retornar um resultado ou executa alguma ação, por meio de um trecho de código.\n",
        "\n",
        "**Por que usar funções?**\n",
        "+ Organizam o código em partes menores e mais legíveis.\n",
        "+ Evitam repetição de código (reutilização).\n",
        "+ Facilitam a manutenção e testes do programa.\n",
        "+ Podem ser compartilhadas e reaproveitadas em outros programas.\n",
        "\n",
        "**Sintaxe básica:**\n",
        "\n",
        "````python\n",
        "def nome_da_funcao():\n",
        "    # bloco de código\n",
        "    ...\n",
        "````\n",
        "\n",
        "**Exemplo prático**"
      ],
      "metadata": {
        "id": "irl90WorRMzo"
      }
    },
    {
      "cell_type": "code",
      "source": [
        "def exibir_mensagem():\n",
        "    print('Ou você é legal, ou você gosta de Java!')\n"
      ],
      "metadata": {
        "id": "wqgNwfxbSAPb"
      },
      "execution_count": 3,
      "outputs": []
    },
    {
      "cell_type": "markdown",
      "source": [
        "Uma **chamada de função** é o procedimento no qual a função é realmente executada!"
      ],
      "metadata": {
        "id": "F8GF21CtSaZt"
      }
    },
    {
      "cell_type": "markdown",
      "source": [
        "## **Funções com parâmetros**\n",
        "\n",
        "**Parâmetros** são as definições dos valores que serão passado como **entrada** para a função. Esses parâmetros para a função se comportam como **variáveis locais**.  \n"
      ],
      "metadata": {
        "id": "fZ7yWjOKSlaV"
      }
    },
    {
      "cell_type": "code",
      "source": [
        "def saudacao(nome):\n",
        "    print('Olá,', nome)"
      ],
      "metadata": {
        "id": "G8B-q_NlTUkh"
      },
      "execution_count": null,
      "outputs": []
    },
    {
      "cell_type": "markdown",
      "source": [
        "Nesse contexto o parâmetro `nome` recebe a entrada de dados que a função irá receber."
      ],
      "metadata": {
        "id": "-hKGItFETWFu"
      }
    },
    {
      "cell_type": "code",
      "source": [
        "saudacao('Betina')\n",
        "saudacao('Edinaldo Pereira')"
      ],
      "metadata": {
        "id": "hP0b_-J5TgFI"
      },
      "execution_count": null,
      "outputs": []
    },
    {
      "cell_type": "markdown",
      "source": [
        "Basicamente quando chamamos `saudacao('Betina')` o parâmetro `nome` recebe o valor `'Betina'`."
      ],
      "metadata": {
        "id": "CK5O8VJSUW8S"
      }
    },
    {
      "cell_type": "markdown",
      "source": [
        "## **Tipos de funções: COM e SEM retorno**\n",
        "\n",
        "Esses tipos são determinado pelo **final da execução** da função, se ela executar e não devolver **nenhum** valor à linha que foi feita a chamada, essa função é **sem retorno**.  \n",
        "A função `saudacao()` é desse tipo!\n",
        "\n",
        "\n",
        "Já uma função **com retorno**, ao final da sua execução, é **retornado** (ou \"deixado\") um valor na linha a qual ela foi chamada.  \n",
        "O valor a ser retornado será definido logo a frente da instrução **`return`**!\n",
        "\n",
        "**Exemplo:** uma função `soma()` que recebe 2 parâmetros, que deverão ser somados e retornará o valor dessa soma."
      ],
      "metadata": {
        "id": "45ST2TPpTqHN"
      }
    },
    {
      "cell_type": "code",
      "source": [
        "def soma(a, b):\n",
        "    soma = a + b\n",
        "    return soma\n",
        "\n",
        "resultado = soma(3, 4)\n",
        "print(f'Resultado: {resultado}')"
      ],
      "metadata": {
        "id": "XhNs6HihVWGm"
      },
      "execution_count": null,
      "outputs": []
    },
    {
      "cell_type": "markdown",
      "source": [
        "## **Exercícios**\n",
        "\n",
        "Implemente as funções abaixo:\n",
        "\n",
        "1. `def dobro(x)` → retorna o dobro de um número.\n",
        "2. `def media(a, b, c)` → retorna a média de 3 valores.\n",
        "3. `def converter_para_celsius(f)` → converte Fahrenheit para Celsius."
      ],
      "metadata": {
        "id": "n9b_AyKuV7vr"
      }
    }
  ]
}