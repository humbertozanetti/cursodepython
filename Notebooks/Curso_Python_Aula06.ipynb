{
  "nbformat": 4,
  "nbformat_minor": 0,
  "metadata": {
    "colab": {
      "provenance": [],
      "authorship_tag": "ABX9TyMkdDpdBi5nt1u1xDCyPSuI",
      "include_colab_link": true
    },
    "kernelspec": {
      "name": "python3",
      "display_name": "Python 3"
    },
    "language_info": {
      "name": "python"
    }
  },
  "cells": [
    {
      "cell_type": "markdown",
      "metadata": {
        "id": "view-in-github",
        "colab_type": "text"
      },
      "source": [
        "<a href=\"https://colab.research.google.com/github/humbertozanetti/cursodepython/blob/main/Notebooks/Curso_Python_Aula06.ipynb\" target=\"_parent\"><img src=\"https://colab.research.google.com/assets/colab-badge.svg\" alt=\"Open In Colab\"/></a>"
      ]
    },
    {
      "cell_type": "markdown",
      "source": [
        "# **CURSO DE PYTHON - Aula 06**\n",
        "**MANIPULAÇÃO DE ARQUIVOS -  parte 1**\n",
        "\n",
        "Prof. Dr. Humberto A. P. Zanetti\n",
        "\n",
        "---"
      ],
      "metadata": {
        "id": "fLWTzgjTug_X"
      }
    },
    {
      "cell_type": "markdown",
      "source": [
        "# **Manipulação de dados**\n",
        "\n",
        "Uma das maneiras mais simples de armazenar dados de maneira **não volátil** (ou seja, que fica armazenada após o término da aplicação) é por meio de **arquivos**.  \n",
        "Assim como em diversas linguagens, temos 2 visões gerais de arquivos:\n",
        "+ binários: que são compostos por uma organização \"não-legível\", necessitando de aplicativos específicos. Exemplos: uma imagem ou vídeo;\n",
        "+ textos: que são compostos por caracteres que são legíveis, como uma organização por linha ou estrturas facilmente mapeáveis. Exemplo: um arquivo de planilha em CSV ou texto em um arquivo .txt.  \n",
        "Nessa aula vamos explorar arquivos **textos**, que tenham uma organização similare à uma planilha, como linhas e dados dispostos em colunas, entendendo que cada uma das linhas representa **um registro**.\n"
      ],
      "metadata": {
        "id": "xMK3DBE2un6-"
      }
    },
    {
      "cell_type": "markdown",
      "source": [
        "## **A estrutura `with`**\n",
        "\n",
        "A estrutura `with` em Python é usada para manipulação segura de arquivos. Ela garante que o arquivo será automaticamente fechado após a execução do bloco de código, evitando problemas como arquivos não fechados corretamente.  \n",
        "Sua sintaxe básica é:\n",
        "````python\n",
        "with open('arquivo.txt', 'modo') as variavel:\n",
        "    # Operações com o arquivo\n",
        "````\n",
        "+ O `open()` abre o arquivo e retorna um objeto de arquivo.\n",
        "+ A variável associada (`variavel`) é usada para acessar o arquivo dentro do bloco.\n",
        "+ Quando o bloco `with` termina, o arquivo é fechado automaticamente, sem precisar chamar `close()`.\n",
        "\n",
        "**Exemplo**"
      ],
      "metadata": {
        "id": "HOVs1E3fvxkS"
      }
    },
    {
      "cell_type": "code",
      "execution_count": null,
      "metadata": {
        "id": "EQ2bO18uugYE"
      },
      "outputs": [],
      "source": [
        "with open('exemplo.txt', 'w') as arquivo:\n",
        "    arquivo.write('Olá, mundo!')\n",
        "# O arquivo já está fechado aqui"
      ]
    },
    {
      "cell_type": "markdown",
      "source": [
        "**Modos de abertura**\n",
        "\n",
        "| Modo  | Descrição |\n",
        "|-------|------------------------------------------------|\n",
        "| `'r'`  | Leitura (erro se o arquivo não existir) |\n",
        "| `'w'`  | Escrita (cria ou sobrescreve o arquivo) |\n",
        "| `'a'`  | Acrescentar ao final do arquivo |\n",
        "| `'r+'` | Leitura e escrita (erro se não existir) |\n",
        "| `'w+'` | Leitura e escrita (cria ou sobrescreve o arquivo) |\n",
        "| `'a+'` | Leitura e escrita (acrescenta, sem apagar) |"
      ],
      "metadata": {
        "id": "JP59-EslyaAu"
      }
    },
    {
      "cell_type": "markdown",
      "source": [
        "### **Escrevendo em arquivos**\n",
        "\n",
        "**Modo `w`** - Cria ou sobrescreve o arquivo"
      ],
      "metadata": {
        "id": "XOqAbQN5ytQr"
      }
    },
    {
      "cell_type": "code",
      "source": [
        "with open('arquivo.txt', 'w') as arquivo:\n",
        "    arquivo.write('Olá, mundo!\\n')\n",
        "    arquivo.write('Segunda linha de texto.\\n')"
      ],
      "metadata": {
        "id": "d6d9Eijfyw9a"
      },
      "execution_count": null,
      "outputs": []
    },
    {
      "cell_type": "markdown",
      "source": [
        "**ATENÇÃO**: O modo `w`apaga tudo antes de escrever!"
      ],
      "metadata": {
        "id": "_GoOccnOy243"
      }
    },
    {
      "cell_type": "code",
      "source": [
        "with open('arquivo.txt', 'w') as arquivo:\n",
        "    arquivo.write('Olá, mundo!\\n')\n",
        "    arquivo.write('Segunda linha de texto.\\n')"
      ],
      "metadata": {
        "id": "FLayVEAzzT-P"
      },
      "execution_count": null,
      "outputs": []
    },
    {
      "cell_type": "markdown",
      "source": [
        "**Modo `a`** - Adiciona conteúdo sem apagar"
      ],
      "metadata": {
        "id": "mf1bDrd_zaRD"
      }
    },
    {
      "cell_type": "code",
      "source": [
        "with open('arquivo.txt', 'a') as arquivo:\n",
        "    arquivo.write('Nova linha adicionada.\\n')"
      ],
      "metadata": {
        "id": "5eEGd9YRzfSy"
      },
      "execution_count": null,
      "outputs": []
    },
    {
      "cell_type": "markdown",
      "source": [
        "### **Lendo arquivos**\n",
        "\n",
        "**Lendo todo o conteúdo**"
      ],
      "metadata": {
        "id": "jzEG-Suzzj2i"
      }
    },
    {
      "cell_type": "code",
      "source": [
        "with open('arquivo.txt', 'r') as arquivo:\n",
        "    conteudo = arquivo.read()\n",
        "    print(conteudo)"
      ],
      "metadata": {
        "id": "TfGMVOUHz0Gm"
      },
      "execution_count": null,
      "outputs": []
    },
    {
      "cell_type": "markdown",
      "source": [
        "**Lendo linha por linha**"
      ],
      "metadata": {
        "id": "BcoWNosIz2Gj"
      }
    },
    {
      "cell_type": "code",
      "source": [
        "with open('arquivo.txt', 'r') as arquivo:\n",
        "    for linha in arquivo:\n",
        "        print(linha.strip())  # Remove quebras de linha extras (\\n)"
      ],
      "metadata": {
        "id": "8DND69w3z6sG"
      },
      "execution_count": null,
      "outputs": []
    },
    {
      "cell_type": "markdown",
      "source": [
        "**Lendo como uma lista**"
      ],
      "metadata": {
        "id": "Ik3mep390GD6"
      }
    },
    {
      "cell_type": "code",
      "source": [
        "with open('arquivo.txt', 'r') as arquivo:\n",
        "    linhas = arquivo.readlines()\n",
        "    print(linhas)"
      ],
      "metadata": {
        "id": "Fm91IZm-0Hnq"
      },
      "execution_count": null,
      "outputs": []
    },
    {
      "cell_type": "markdown",
      "source": [
        "### **EXEMPLO PRÁTICO**\n",
        "\n",
        "Vamos imaginar um arquivo contendo alunos e suas notas:"
      ],
      "metadata": {
        "id": "uPyntKK50gon"
      }
    },
    {
      "cell_type": "code",
      "source": [
        "with open('alunos.txt', 'w') as arquivo:\n",
        "    arquivo.write('Betina 8 9\\n')\n",
        "    arquivo.write('Carlos 7 6\\n')\n",
        "    arquivo.write('Ana 10 9\\n')\n",
        "    arquivo.write('Pedro 6 5\\n')\n",
        "    arquivo.write('Mariana 9 8\\n')"
      ],
      "metadata": {
        "id": "m-qBuRBw0p3W"
      },
      "execution_count": null,
      "outputs": []
    },
    {
      "cell_type": "markdown",
      "source": [
        "Vamos agora ler esses dados e começar a manipular:"
      ],
      "metadata": {
        "id": "ifGMUglF1EWb"
      }
    },
    {
      "cell_type": "code",
      "source": [
        "with open('alunos.txt', 'r') as arquivo:\n",
        "    for linha in arquivo:\n",
        "        dados = linha.strip().split()  # divide os elementos da linha\n",
        "        nome = dados[0]  # primeiro elemento é o nome\n",
        "\n",
        "        print(f'Aluno: {nome} - Notas: {dados[1]}, {dados[2]}')"
      ],
      "metadata": {
        "id": "_nDV2wNG1IGG"
      },
      "execution_count": null,
      "outputs": []
    },
    {
      "cell_type": "markdown",
      "source": [
        "Cada linha se transforma em uma lista, onde `dados[0]` é o nome e `dados[1]` e `dados[2]` são as notas.\n",
        "````\n",
        " linha => dados[nome, nota1, nota2]\n",
        "````\n",
        "\n",
        "**IMPORTANTE**: Todos os dados extraídos do arquivo são do tipo STRING!"
      ],
      "metadata": {
        "id": "m8Qn7z3C49fL"
      }
    },
    {
      "cell_type": "markdown",
      "source": [
        "Vamos agora extrair informação desses dados, por exemplo, verificar a média desses alunos!"
      ],
      "metadata": {
        "id": "ftIlpenW5oij"
      }
    },
    {
      "cell_type": "code",
      "source": [
        "with open('alunos.txt', 'r') as arquivo:\n",
        "    for linha in arquivo:\n",
        "        dados = linha.strip().split()\n",
        "        nome = dados[0]\n",
        "\n",
        "        # convertendo as notas manualmente para float\n",
        "        nota1 = float(dados[1])\n",
        "        nota2 = float(dados[2])\n",
        "\n",
        "        media = (nota1+nota2)/2\n",
        "\n",
        "        print(f'Aluno: {nome} - Notas: {nota1}, {nota2} - Média: {media:.2f}')"
      ],
      "metadata": {
        "id": "Lw1I-SSv4rBv"
      },
      "execution_count": null,
      "outputs": []
    },
    {
      "cell_type": "markdown",
      "source": [
        "Para o arquivo que temos, o código funciona bem. Mas e se tivermos um arquivo cuja a linha tenha muitas informações a serem mapeadas?  \n",
        "Vamos utulizar laços e listas parfa percorres dados de cada uma das linhas e melhorar nosso trabalho."
      ],
      "metadata": {
        "id": "DQMizsk-5xQj"
      }
    },
    {
      "cell_type": "code",
      "source": [
        "with open('alunos.txt', 'r') as arquivo:\n",
        "    for linha in arquivo:\n",
        "        dados = linha.strip().split()\n",
        "        nome = dados[0]\n",
        "\n",
        "        # convertendo as notas manualmente para float (agora com laço e lista)\n",
        "        notas = []\n",
        "        for nota in dados[1:]:\n",
        "            notas.append(float(nota))\n",
        "\n",
        "        media = sum(notas) / len(notas)  # calculando a média\n",
        "\n",
        "        print(f'Aluno: {nome} - Notas: {notas[0]}, {notas[1]} - Média: {media:.2f}')\n"
      ],
      "metadata": {
        "id": "Ddo1rIES4Se7"
      },
      "execution_count": null,
      "outputs": []
    },
    {
      "cell_type": "markdown",
      "source": [
        "**EXERCÍCIO**\n",
        "\n",
        "1. Utilizando esse mesmo exemplo para mostrar a maior nota de cada um dos alunos e se eles estão aprovados (média >= 6) ou reprovados."
      ],
      "metadata": {
        "id": "uvEVIfXK6JPb"
      }
    },
    {
      "cell_type": "code",
      "source": [],
      "metadata": {
        "id": "CyP3b1CyEB2r"
      },
      "execution_count": null,
      "outputs": []
    },
    {
      "cell_type": "markdown",
      "source": [
        "2. Crie um arquivo produtos.txt contendo 5 produtos, cada um com preço e quantidade no seguinte formato:\n",
        "\n",
        "````\n",
        "Arroz 5.50 10\n",
        "Feijão 8.90 6\n",
        "Leite 4.20 12\n",
        "Café 15.00 5\n",
        "Açúcar 3.75 8\n",
        "````\n",
        "Depois, leia esse arquivo e exiba os produtos, mostrando o nome, preço e quantidade formatados.\n",
        "**Saída esperada:**\n",
        "````\n",
        "Produto: Arroz - Preço: R$5.50 - Quantidade: 10\n",
        "Produto: Feijão - Preço: R$8.90 - Quantidade: 6\n",
        "...\n",
        "````\n"
      ],
      "metadata": {
        "id": "SmCZiwiaEEDy"
      }
    },
    {
      "cell_type": "code",
      "source": [],
      "metadata": {
        "id": "QFjPJJZjEDqa"
      },
      "execution_count": null,
      "outputs": []
    }
  ]
}