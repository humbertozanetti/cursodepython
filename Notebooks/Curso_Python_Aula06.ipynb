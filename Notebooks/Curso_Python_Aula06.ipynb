{
  "nbformat": 4,
  "nbformat_minor": 0,
  "metadata": {
    "colab": {
      "provenance": [],
      "authorship_tag": "ABX9TyN4cAFW8LYUj+Egoi+XNf7H",
      "include_colab_link": true
    },
    "kernelspec": {
      "name": "python3",
      "display_name": "Python 3"
    },
    "language_info": {
      "name": "python"
    }
  },
  "cells": [
    {
      "cell_type": "markdown",
      "metadata": {
        "id": "view-in-github",
        "colab_type": "text"
      },
      "source": [
        "<a href=\"https://colab.research.google.com/github/humbertozanetti/cursodepython/blob/main/Notebooks/Curso_Python_Aula06.ipynb\" target=\"_parent\"><img src=\"https://colab.research.google.com/assets/colab-badge.svg\" alt=\"Open In Colab\"/></a>"
      ]
    },
    {
      "cell_type": "markdown",
      "source": [
        "# **CURSO DE PYTHON - Aula 06**\n",
        "**MANIPULAÇÃO DE ARQUIVOS**\n",
        "\n",
        "Prof. Dr. Humberto A. P. Zanetti\n",
        "\n",
        "---"
      ],
      "metadata": {
        "id": "fLWTzgjTug_X"
      }
    },
    {
      "cell_type": "markdown",
      "source": [
        "# **Manipulação de dados**\n",
        "\n",
        "Uma das maneiras mais simples de armazenar dados de maneira **não volátil** (ou seja, que fica armazenada após o término da aplicação) é por meio de **arquivos**.  \n",
        "Assim como em diversar linguagens, temos 2 visões gerais de arquivos:\n",
        "+ binários: que são compostos por uma organização \"não-legível\", necessitando de aplicativos específicos. Exemplos: uma imagem ou vídeo;\n",
        "+ textos: que são compostos por caracteres que são legíveis, como uma organização por linha ou estrturas facilmente mapeáveis. Exemplo: um arquivo de planilha em CSV ou texto em um arquivo .txt.  \n",
        "Nessa aula vamos explorar arquivos **textos**, que tenham uma organização similare à uma planilha, como linhas e dados dispostos em colunas, entendendo que cada uma das linhas representa **um registro**.\n"
      ],
      "metadata": {
        "id": "xMK3DBE2un6-"
      }
    },
    {
      "cell_type": "markdown",
      "source": [
        "## **A estrutura `with`**\n",
        "\n",
        "A estrutura `with` em Python é usada para manipulação segura de arquivos. Ela garante que o arquivo será automaticamente fechado após a execução do bloco de código, evitando problemas como arquivos não fechados corretamente.  \n",
        "Sua sintaxe básica é:\n",
        "````python\n",
        "with open('arquivo.txt', 'modo') as variavel:\n",
        "    # Operações com o arquivo\n",
        "````\n",
        "+ O `open()` abre o arquivo e retorna um objeto de arquivo.\n",
        "+ A variável associada (`variavel`) é usada para acessar o arquivo dentro do bloco.\n",
        "+ Quando o bloco `with` termina, o arquivo é fechado automaticamente, sem precisar chamar `close()`.\n",
        "\n",
        "**Exemplo**"
      ],
      "metadata": {
        "id": "HOVs1E3fvxkS"
      }
    },
    {
      "cell_type": "code",
      "execution_count": null,
      "metadata": {
        "id": "EQ2bO18uugYE"
      },
      "outputs": [],
      "source": [
        "with open('exemplo.txt', 'w') as arquivo:\n",
        "    arquivo.write('Olá, mundo!')\n",
        "# O arquivo já está fechado aqui"
      ]
    },
    {
      "cell_type": "markdown",
      "source": [
        "**Modos de abertura**\n",
        "\n",
        "| Modo  | Descrição |\n",
        "|-------|------------------------------------------------|\n",
        "| `'r'`  | Leitura (erro se o arquivo não existir) |\n",
        "| `'w'`  | Escrita (cria ou sobrescreve o arquivo) |\n",
        "| `'a'`  | Acrescentar ao final do arquivo |\n",
        "| `'r+'` | Leitura e escrita (erro se não existir) |\n",
        "| `'w+'` | Leitura e escrita (cria ou sobrescreve o arquivo) |\n",
        "| `'a+'` | Leitura e escrita (acrescenta, sem apagar) |"
      ],
      "metadata": {
        "id": "JP59-EslyaAu"
      }
    },
    {
      "cell_type": "markdown",
      "source": [
        "### **Escrevendo em arquivos**\n",
        "\n",
        "**Modo `w`** - Cria ou sobrescreve o arquivo"
      ],
      "metadata": {
        "id": "XOqAbQN5ytQr"
      }
    },
    {
      "cell_type": "code",
      "source": [
        "with open('arquivo.txt', 'w') as arquivo:\n",
        "    arquivo.write('Olá, mundo!\\n')\n",
        "    arquivo.write('Segunda linha de texto.\\n')"
      ],
      "metadata": {
        "id": "d6d9Eijfyw9a"
      },
      "execution_count": null,
      "outputs": []
    },
    {
      "cell_type": "markdown",
      "source": [
        "**ATENÇÃO**: O modo `w`apaga tudo antes de escrever!"
      ],
      "metadata": {
        "id": "_GoOccnOy243"
      }
    },
    {
      "cell_type": "code",
      "source": [
        "with open('arquivo.txt', 'w') as arquivo:\n",
        "    arquivo.write('Olá, mundo!\\n')\n",
        "    arquivo.write('Segunda linha de texto.\\n')"
      ],
      "metadata": {
        "id": "FLayVEAzzT-P"
      },
      "execution_count": null,
      "outputs": []
    },
    {
      "cell_type": "markdown",
      "source": [
        "**Modo `a`** - Adiciona conteúdo sem apagar"
      ],
      "metadata": {
        "id": "mf1bDrd_zaRD"
      }
    },
    {
      "cell_type": "code",
      "source": [
        "with open('arquivo.txt', 'a') as arquivo:\n",
        "    arquivo.write('Nova linha adicionada.\\n')"
      ],
      "metadata": {
        "id": "5eEGd9YRzfSy"
      },
      "execution_count": null,
      "outputs": []
    },
    {
      "cell_type": "markdown",
      "source": [
        "### **Lendo arquivos**\n",
        "\n",
        "**Lendo todo o conteúdo**"
      ],
      "metadata": {
        "id": "jzEG-Suzzj2i"
      }
    },
    {
      "cell_type": "code",
      "source": [
        "with open('arquivo.txt', 'r') as arquivo:\n",
        "    conteudo = arquivo.read()\n",
        "    print(conteudo)"
      ],
      "metadata": {
        "id": "TfGMVOUHz0Gm"
      },
      "execution_count": null,
      "outputs": []
    },
    {
      "cell_type": "markdown",
      "source": [
        "**Lendo linha por linha**"
      ],
      "metadata": {
        "id": "BcoWNosIz2Gj"
      }
    },
    {
      "cell_type": "code",
      "source": [
        "with open('arquivo.txt', 'r') as arquivo:\n",
        "    for linha in arquivo:\n",
        "        print(linha.strip())  # Remove quebras de linha extras (\\n)"
      ],
      "metadata": {
        "id": "8DND69w3z6sG"
      },
      "execution_count": null,
      "outputs": []
    },
    {
      "cell_type": "markdown",
      "source": [
        "**Lendo como uma lista**"
      ],
      "metadata": {
        "id": "Ik3mep390GD6"
      }
    },
    {
      "cell_type": "code",
      "source": [
        "with open('arquivo.txt', 'r') as arquivo:\n",
        "    linhas = arquivo.readlines()\n",
        "    print(linhas)"
      ],
      "metadata": {
        "id": "Fm91IZm-0Hnq"
      },
      "execution_count": null,
      "outputs": []
    },
    {
      "cell_type": "markdown",
      "source": [
        "### **EXEMPLO PRÁTICO**\n",
        "\n",
        "Vamos imaginar um arquivo contendo alunos e suas notas:"
      ],
      "metadata": {
        "id": "uPyntKK50gon"
      }
    },
    {
      "cell_type": "code",
      "source": [
        "with open('alunos.txt', 'w') as arquivo:\n",
        "    arquivo.write('Betina 8 9 10 7\\n')\n",
        "    arquivo.write('Carlos 7 6 8 9\\n')\n",
        "    arquivo.write('Ana 10 9 8 10\\n')\n",
        "    arquivo.write('Pedro 6 5 7 8\\n')\n",
        "    arquivo.write('Mariana 9 8 10 9\\n')"
      ],
      "metadata": {
        "id": "m-qBuRBw0p3W"
      },
      "execution_count": 1,
      "outputs": []
    },
    {
      "cell_type": "markdown",
      "source": [
        "Vamos agora ler esses dados e começar a manipular:"
      ],
      "metadata": {
        "id": "ifGMUglF1EWb"
      }
    },
    {
      "cell_type": "code",
      "source": [
        "with open('alunos.txt', 'r') as arquivo:\n",
        "    for linha in arquivo:\n",
        "        dados = linha.strip().split()  # divide os elementos da linha\n",
        "        nome = dados[0]  # primeiro elemento é o nome\n",
        "        # convertendo notas para float e armazenando em uma lista\n",
        "        for nota in dados[1:]:\n",
        "          notas.append(float(nota))\n",
        "          print(f'Aluno: {nome} - Notas: {notas}')"
      ],
      "metadata": {
        "id": "_nDV2wNG1IGG"
      },
      "execution_count": null,
      "outputs": []
    }
  ]
}