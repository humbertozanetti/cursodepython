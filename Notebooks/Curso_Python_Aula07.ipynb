{
  "nbformat": 4,
  "nbformat_minor": 0,
  "metadata": {
    "colab": {
      "provenance": [],
      "authorship_tag": "ABX9TyNhMs83qkqBrdwS7AfNH+z4",
      "include_colab_link": true
    },
    "kernelspec": {
      "name": "python3",
      "display_name": "Python 3"
    },
    "language_info": {
      "name": "python"
    }
  },
  "cells": [
    {
      "cell_type": "markdown",
      "metadata": {
        "id": "view-in-github",
        "colab_type": "text"
      },
      "source": [
        "<a href=\"https://colab.research.google.com/github/humbertozanetti/cursodepython/blob/main/Notebooks/Curso_Python_Aula07.ipynb\" target=\"_parent\"><img src=\"https://colab.research.google.com/assets/colab-badge.svg\" alt=\"Open In Colab\"/></a>"
      ]
    },
    {
      "cell_type": "markdown",
      "source": [
        "# **CURSO DE PYTHON - Aula 07**\n",
        "**MANIPULAÇÃO DE ARQUIVOS -  parte 2**\n",
        "\n",
        "Prof. Dr. Humberto A. P. Zanetti\n",
        "\n",
        "---"
      ],
      "metadata": {
        "id": "SKgEKcVALFPp"
      }
    },
    {
      "cell_type": "markdown",
      "source": [
        "## Inserir dados no arquivo"
      ],
      "metadata": {
        "id": "iRQnH6QnL3Sa"
      }
    },
    {
      "cell_type": "markdown",
      "source": [
        "Como visto antetiormente, vamos criar um arquivo para inserir nomes no arquivo `nomes.txt`."
      ],
      "metadata": {
        "id": "kSKZn1aIL-EM"
      }
    },
    {
      "cell_type": "code",
      "execution_count": 1,
      "metadata": {
        "id": "Z55WEWQzLEW4",
        "outputId": "8304576b-751c-46fb-eeef-ef07d3aba292",
        "colab": {
          "base_uri": "https://localhost:8080/"
        }
      },
      "outputs": [
        {
          "name": "stdout",
          "output_type": "stream",
          "text": [
            "Digite um nome: José\n"
          ]
        }
      ],
      "source": [
        "with open('nomes.txt', 'w') as arquivo:\n",
        "    nome = input('Digite um nome: ')\n",
        "    arquivo.write(nome + '\\n')"
      ]
    },
    {
      "cell_type": "markdown",
      "source": [
        "Para adicionar valores em arquivos utilizamos o modo `a` (*append* ou adicionar) adiciona conteúdo ao final do arquivo, sem apagar o que já estava lá."
      ],
      "metadata": {
        "id": "3NU_HuGsMKqG"
      }
    },
    {
      "cell_type": "code",
      "source": [
        "with open('nomes.txt', 'a') as arquivo:\n",
        "    while True:\n",
        "        nome = input('Digite um nome (ou \"sair\" para encerrar): ')\n",
        "        if nome.lower() == 'sair':\n",
        "            break\n",
        "        arquivo.write(nome + '\\n')"
      ],
      "metadata": {
        "id": "Zxl6vEd6NeZZ",
        "outputId": "ceda2cbf-0e39-459b-cd1e-83cbb4d85f23",
        "colab": {
          "base_uri": "https://localhost:8080/"
        }
      },
      "execution_count": 2,
      "outputs": [
        {
          "name": "stdout",
          "output_type": "stream",
          "text": [
            "Digite um nome (ou \"sair\" para encerrar): Maria\n",
            "Digite um nome (ou \"sair\" para encerrar): João\n",
            "Digite um nome (ou \"sair\" para encerrar): sair\n"
          ]
        }
      ]
    },
    {
      "cell_type": "markdown",
      "source": [
        "## Verificando a existência de arquivo antes de manipular\n",
        "\n",
        "Podemos verificar a existência ou não de um arquivo antes de manipulá-lo. Esse procedimento é importante para que não haja problemas de reescrita."
      ],
      "metadata": {
        "id": "rxI5ILGmOlqp"
      }
    },
    {
      "cell_type": "code",
      "source": [
        "import os  # biblioteca que acessa recursos de sistemas operacionais\n",
        "\n",
        "nome_arquivo = 'alunos.txt'\n",
        "\n",
        "# verifica se o arquivo existe\n",
        "if not os.path.exists(nome_arquivo):\n",
        "    print('Arquivo ainda não existe. Ele será criado agora.')\n",
        "else:\n",
        "    print('Arquivo encontrado. Os dados serão adicionados.')\n",
        "\n",
        "# pega os dados do usuário\n",
        "with open(nome_arquivo, 'a') as arquivo:\n",
        "    while True:\n",
        "        nome = input('Digite o nome do aluno (ou \"sair\" para encerrar): ')\n",
        "        if nome.lower() == 'sair':\n",
        "            break\n",
        "\n",
        "        nota1 = input('Digite a primeira nota: ')\n",
        "        nota2 = input('Digite a segunda nota: ')\n",
        "\n",
        "        # grava os dados no arquivo\n",
        "        arquivo.write(f'{nome} {nota1} {nota2}\\n')\n",
        "\n",
        "print('Dados gravados com sucesso!')\n"
      ],
      "metadata": {
        "id": "UpQAkdRYO4NI",
        "outputId": "ed42ee0d-3c56-4d96-caa4-95782cdbcb23",
        "colab": {
          "base_uri": "https://localhost:8080/"
        }
      },
      "execution_count": 3,
      "outputs": [
        {
          "output_type": "stream",
          "name": "stdout",
          "text": [
            "Arquivo ainda não existe. Ele será criado agora.\n",
            "Digite o nome do aluno (ou \"sair\" para encerrar): José\n",
            "Digite a primeira nota: 3.5\n",
            "Digite a segunda nota: 6.5\n",
            "Digite o nome do aluno (ou \"sair\" para encerrar): sair\n",
            "Dados gravados com sucesso!\n"
          ]
        }
      ]
    },
    {
      "cell_type": "markdown",
      "source": [
        "## Usando símbolos como separadores de valores em arquivos  \n",
        "\n",
        "Além de usar **espaços** para separar os dados no arquivo, podemos utilizados outros símbolos como separadores. Isso é interessante, principalmente quando o \"espaço\" faz parte do dado em que estamos manipulando, por exemplo em um nome de pessoa (nome e sobrenome), endereços, etc.  "
      ],
      "metadata": {
        "id": "0PDIcczCPc3-"
      }
    },
    {
      "cell_type": "code",
      "source": [
        "import os\n",
        "\n",
        "nome_arquivo = 'alunos.txt'\n",
        "\n",
        "if not os.path.exists(nome_arquivo):\n",
        "    print('Arquivo ainda não existe. Ele será criado agora.')\n",
        "else:\n",
        "    print('Arquivo encontrado. Os dados serão adicionados.')\n",
        "\n",
        "with open(nome_arquivo, 'a') as arquivo:\n",
        "    while True:\n",
        "        nome = input('Digite o nome do aluno (ou \"sair\" para encerrar): ')\n",
        "        if nome.lower() == 'sair':\n",
        "            break\n",
        "\n",
        "        nota1 = input('Digite a primeira nota: ')\n",
        "        nota2 = input('Digite a segunda nota: ')\n",
        "\n",
        "        # grava os dados no formato: Nome;Nota1;Nota2\n",
        "        arquivo.write(f'{nome};{nota1};{nota2}\\n')\n",
        "\n",
        "print('Dados gravados com sucesso!')\n"
      ],
      "metadata": {
        "id": "-x77U64mQNxs"
      },
      "execution_count": null,
      "outputs": []
    },
    {
      "cell_type": "markdown",
      "source": [
        "Agora, na hora da leitura, temos que identificar qual é o seprador utilizado."
      ],
      "metadata": {
        "id": "e3vBF72fQUxF"
      }
    },
    {
      "cell_type": "code",
      "source": [],
      "metadata": {
        "id": "4x1vmGy1QUIk"
      },
      "execution_count": null,
      "outputs": []
    }
  ]
}