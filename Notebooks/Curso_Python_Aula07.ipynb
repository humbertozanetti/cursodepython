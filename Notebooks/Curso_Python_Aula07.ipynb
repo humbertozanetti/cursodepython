{
  "nbformat": 4,
  "nbformat_minor": 0,
  "metadata": {
    "colab": {
      "provenance": [],
      "authorship_tag": "ABX9TyPSB13HVqdrvEwVZ8WrqSaT",
      "include_colab_link": true
    },
    "kernelspec": {
      "name": "python3",
      "display_name": "Python 3"
    },
    "language_info": {
      "name": "python"
    }
  },
  "cells": [
    {
      "cell_type": "markdown",
      "metadata": {
        "id": "view-in-github",
        "colab_type": "text"
      },
      "source": [
        "<a href=\"https://colab.research.google.com/github/humbertozanetti/cursodepython/blob/main/Notebooks/Curso_Python_Aula07.ipynb\" target=\"_parent\"><img src=\"https://colab.research.google.com/assets/colab-badge.svg\" alt=\"Open In Colab\"/></a>"
      ]
    },
    {
      "cell_type": "markdown",
      "source": [
        "# **CURSO DE PYTHON - Aula 07**\n",
        "**MANIPULAÇÃO DE ARQUIVOS -  parte 2**\n",
        "\n",
        "Prof. Dr. Humberto A. P. Zanetti\n",
        "\n",
        "---"
      ],
      "metadata": {
        "id": "SKgEKcVALFPp"
      }
    },
    {
      "cell_type": "markdown",
      "source": [
        "## Inserir dados no arquivo"
      ],
      "metadata": {
        "id": "iRQnH6QnL3Sa"
      }
    },
    {
      "cell_type": "markdown",
      "source": [
        "Como visto antetiormente, vamos criar um arquivo para inserir nomes no arquivo `nomes.txt`."
      ],
      "metadata": {
        "id": "kSKZn1aIL-EM"
      }
    },
    {
      "cell_type": "code",
      "execution_count": 1,
      "metadata": {
        "id": "Z55WEWQzLEW4",
        "colab": {
          "base_uri": "https://localhost:8080/"
        },
        "outputId": "8304576b-751c-46fb-eeef-ef07d3aba292"
      },
      "outputs": [
        {
          "name": "stdout",
          "output_type": "stream",
          "text": [
            "Digite um nome: José\n"
          ]
        }
      ],
      "source": [
        "with open('nomes.txt', 'w') as arquivo:\n",
        "    nome = input('Digite um nome: ')\n",
        "    arquivo.write(nome + '\\n')"
      ]
    },
    {
      "cell_type": "markdown",
      "source": [
        "Para adicionar valores em arquivos utilizamos o modo `a` (*append* ou adicionar) adiciona conteúdo ao final do arquivo, sem apagar o que já estava lá."
      ],
      "metadata": {
        "id": "3NU_HuGsMKqG"
      }
    },
    {
      "cell_type": "code",
      "source": [
        "with open('nomes.txt', 'a') as arquivo:\n",
        "    while True:\n",
        "        nome = input('Digite um nome (ou \"sair\" para encerrar): ')\n",
        "        if nome.lower() == 'sair':\n",
        "            break\n",
        "        arquivo.write(nome + '\\n')"
      ],
      "metadata": {
        "colab": {
          "base_uri": "https://localhost:8080/"
        },
        "id": "Zxl6vEd6NeZZ",
        "outputId": "ceda2cbf-0e39-459b-cd1e-83cbb4d85f23"
      },
      "execution_count": 2,
      "outputs": [
        {
          "name": "stdout",
          "output_type": "stream",
          "text": [
            "Digite um nome (ou \"sair\" para encerrar): Maria\n",
            "Digite um nome (ou \"sair\" para encerrar): João\n",
            "Digite um nome (ou \"sair\" para encerrar): sair\n"
          ]
        }
      ]
    },
    {
      "cell_type": "markdown",
      "source": [
        "## Verificando a existência de arquivo antes de manipular\n",
        "\n",
        "Podemos verificar a existência ou não de um arquivo antes de manipulá-lo. Esse procedimento é importante para que não haja problemas de reescrita."
      ],
      "metadata": {
        "id": "rxI5ILGmOlqp"
      }
    },
    {
      "cell_type": "code",
      "source": [
        "import os  # biblioteca que acessa recursos de sistemas operacionais\n",
        "\n",
        "nome_arquivo = 'alunos.txt'\n",
        "\n",
        "# verifica se o arquivo existe\n",
        "if not os.path.exists(nome_arquivo):\n",
        "    print('Arquivo ainda não existe. Ele será criado agora.')\n",
        "else:\n",
        "    print('Arquivo encontrado. Os dados serão adicionados.')\n",
        "\n",
        "# pega os dados do usuário\n",
        "with open(nome_arquivo, 'a') as arquivo:\n",
        "    while True:\n",
        "        nome = input('Digite o nome do aluno (ou \"sair\" para encerrar): ')\n",
        "        if nome.lower() == 'sair':\n",
        "            break\n",
        "\n",
        "        nota1 = input('Digite a primeira nota: ')\n",
        "        nota2 = input('Digite a segunda nota: ')\n",
        "\n",
        "        # grava os dados no arquivo\n",
        "        arquivo.write(f'{nome} {nota1} {nota2}\\n')\n",
        "\n",
        "print('Dados gravados com sucesso!')\n"
      ],
      "metadata": {
        "colab": {
          "base_uri": "https://localhost:8080/"
        },
        "id": "UpQAkdRYO4NI",
        "outputId": "ed42ee0d-3c56-4d96-caa4-95782cdbcb23"
      },
      "execution_count": 3,
      "outputs": [
        {
          "output_type": "stream",
          "name": "stdout",
          "text": [
            "Arquivo ainda não existe. Ele será criado agora.\n",
            "Digite o nome do aluno (ou \"sair\" para encerrar): José\n",
            "Digite a primeira nota: 3.5\n",
            "Digite a segunda nota: 6.5\n",
            "Digite o nome do aluno (ou \"sair\" para encerrar): sair\n",
            "Dados gravados com sucesso!\n"
          ]
        }
      ]
    },
    {
      "cell_type": "markdown",
      "source": [
        "## Usando símbolos como separadores de valores em arquivos  \n",
        "\n",
        "Além de usar **espaços** para separar os dados no arquivo, podemos utilizados outros símbolos como separadores. Isso é interessante, principalmente quando o \"espaço\" faz parte do dado em que estamos manipulando, por exemplo em um nome de pessoa (nome e sobrenome), endereços, etc.   \n",
        "Vamos usar o **ponto-e-vírgula** como separador, que é muito usado em arquivos tipo CSV (comum em Excel)."
      ],
      "metadata": {
        "id": "0PDIcczCPc3-"
      }
    },
    {
      "cell_type": "code",
      "source": [
        "import os\n",
        "\n",
        "nome_arquivo = 'alunos2.txt'\n",
        "\n",
        "if not os.path.exists(nome_arquivo):\n",
        "    print('Arquivo ainda não existe. Ele será criado agora.')\n",
        "else:\n",
        "    print('Arquivo encontrado. Os dados serão adicionados.')\n",
        "\n",
        "with open(nome_arquivo, 'a') as arquivo:\n",
        "    while True:\n",
        "        nome = input('Digite o nome do aluno (ou \"sair\" para encerrar): ')\n",
        "        if nome.lower() == 'sair':\n",
        "            break\n",
        "\n",
        "        nota1 = input('Digite a primeira nota: ')\n",
        "        nota2 = input('Digite a segunda nota: ')\n",
        "\n",
        "        # grava os dados no formato: Nome;Nota1;Nota2\n",
        "        arquivo.write(f'{nome};{nota1};{nota2}\\n')\n",
        "\n",
        "print('Dados gravados com sucesso!')\n"
      ],
      "metadata": {
        "colab": {
          "base_uri": "https://localhost:8080/"
        },
        "id": "-x77U64mQNxs",
        "outputId": "e274ba5e-642f-4089-a9f0-1a8e6f2f2684"
      },
      "execution_count": 13,
      "outputs": [
        {
          "output_type": "stream",
          "name": "stdout",
          "text": [
            "Arquivo encontrado. Os dados serão adicionados.\n",
            "Digite o nome do aluno (ou \"sair\" para encerrar): josé maria\n",
            "Digite a primeira nota: 7.0\n",
            "Digite a segunda nota: 6.5\n",
            "Digite o nome do aluno (ou \"sair\" para encerrar): sair\n",
            "Dados gravados com sucesso!\n"
          ]
        }
      ]
    },
    {
      "cell_type": "markdown",
      "source": [
        "Agora, na hora da leitura, temos que identificar qual é o seprador utilizado (**;**)."
      ],
      "metadata": {
        "id": "e3vBF72fQUxF"
      }
    },
    {
      "cell_type": "code",
      "source": [
        "with open('alunos2.txt', 'r') as arquivo:\n",
        "    for linha in arquivo:\n",
        "        dados = linha.strip().split(';')  # separa por ponto e vírgula\n",
        "\n",
        "        nome = dados[0]\n",
        "        nota1 = float(dados[1])\n",
        "        nota2 = float(dados[2])\n",
        "        media = (nota1 + nota2) / 2\n",
        "\n",
        "        print(f'Aluno: {nome} | Notas: {nota1:.1f}, {nota2:.1f} | Média: {media:.1f}')\n"
      ],
      "metadata": {
        "colab": {
          "base_uri": "https://localhost:8080/"
        },
        "id": "4x1vmGy1QUIk",
        "outputId": "e301510a-b4ff-4dd5-9093-89cab154b48c"
      },
      "execution_count": 14,
      "outputs": [
        {
          "output_type": "stream",
          "name": "stdout",
          "text": [
            "Aluno: joão | Notas: 3.4, 7.8 | Média: 5.6\n",
            "Aluno: josé maria | Notas: 7.0, 6.5 | Média: 6.8\n"
          ]
        }
      ]
    },
    {
      "cell_type": "markdown",
      "source": [
        "## **Exercício**  \n",
        "\n",
        "Faça programa em Python para registrar produtos em um arquivo .txt, onde cada produto deve conter as seguintes informações:\n",
        "+ Nome do produto\n",
        "+ Valor unitário (float)\n",
        "+ Quantidade em estoque (inteiro)\n",
        "+ Status do estoque (disponível ou indisponível)\n",
        "\n",
        "As informações devem ser gravadas em um arquivo chamado produtos.txt, no seguinte formato:\n",
        "````\n",
        "nome do produto;valor_unitario;quantidade;status\n",
        "````\n",
        "\n",
        "Crie um programa que:\n",
        "\n",
        "1. Verifique se o arquivo `produtos.txt` existe.\n",
        "2. Solicite ao usuário o nome do produto, valor unitário, quantidade e status.\n",
        "3. Grave os dados no arquivo usando `|` como separador.\n",
        "4. Permita adicionar mais de um produto, até que o usuário digite \"sair\" no nome.\n",
        "\n",
        "Para cada produto, exiba em uma única linha:\n",
        "+ Nome\n",
        "+ Valor unitário\n",
        "+ Quantidade\n",
        "+ Valor total em estoque (valor_unitário * quantidade)\n",
        "+ Status\n",
        "\n",
        "Ao final, mostre:\n",
        "+ O **valor total geral** do estoque\n",
        "+ O produto **mais caro**\n",
        "+ O produto com **maior quantidade**\n",
        "\n",
        "**Exemplo de saída**\n",
        "````\n",
        "Produto: Notebook | Valor unitário: R$3500.00 | Quantidade: 10 | Total: R$35000.00 | Status: disponível\n",
        "Produto: Mouse | Valor unitário: R$85.50 | Quantidade: 50 | Total: R$4275.00 | Status: disponível\n",
        "Produto: Teclado Mecânico | Valor unitário: R$250.00 | Quantidade: 20 | Total: R$5000.00 | Status: disponível\n",
        "Produto: Monitor 27\" | Valor unitário: R$1800.00 | Quantidade: 5 | Total: R$9000.00 | Status: indisponível\n",
        "\n",
        "---------------------------------------------------------\n",
        "Valor total geral em estoque: R$53275.00\n",
        "Produto mais caro: Notebook (R$3500.00)\n",
        "Produto com maior quantidade: Mouse (50 unidades)\n",
        "````"
      ],
      "metadata": {
        "id": "cY0g3HbiVyuq"
      }
    },
    {
      "cell_type": "code",
      "source": [
        "\n",
        ""
      ],
      "metadata": {
        "id": "rtxYj2uwWRwz"
      },
      "execution_count": null,
      "outputs": []
    }
  ]
}